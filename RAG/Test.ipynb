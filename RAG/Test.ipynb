{
 "cells": [
  {
   "cell_type": "code",
   "execution_count": null,
   "id": "2240d1a3",
   "metadata": {},
   "outputs": [
    {
     "name": "stdout",
     "output_type": "stream",
     "text": [
      "✅ Found existing DB. Loading without re-embedding...\n",
      "{'query': 'What is an interesting fact about the English language?', 'result': 'One interesting fact about the English language from the provided context is related to the word \"dreamt\".'}\n"
     ]
    }
   ],
   "source": [
    "# Embedding with nomic-embed-text and retieve with llm\n",
    "\n",
    "import os\n",
    "from langchain_community.document_loaders import TextLoader\n",
    "from langchain.text_splitter import CharacterTextSplitter\n",
    "from langchain_chroma import Chroma\n",
    "from langchain_ollama import OllamaEmbeddings\n",
    "from langchain.chains import RetrievalQA\n",
    "from langchain_ollama import OllamaLLM\n",
    "\n",
    "# --------------------\n",
    "# Setup\n",
    "# --------------------\n",
    "os.environ.setdefault(\"no_proxy\", \"127.0.0.1,localhost\")\n",
    "os.environ.setdefault(\"HTTPX_NO_PROXY\", \"127.0.0.1,localhost\")\n",
    "\n",
    "persist_dir = \"nomic-emb\"\n",
    "embeddings = OllamaEmbeddings(model=\"nomic-embed-text\")\n",
    "\n",
    "# Load documents only if we need to create embeddings\n",
    "if not os.path.exists(persist_dir) or not os.listdir(persist_dir):\n",
    "    print(\"⚡ No existing DB found. Creating new embeddings...\")\n",
    "\n",
    "    # Load and split text\n",
    "    loader = TextLoader(\"facts.txt\")\n",
    "    docs = loader.load()\n",
    "    text_splitter = CharacterTextSplitter(\n",
    "        separator=\"\\n\",\n",
    "        chunk_size=200,\n",
    "        chunk_overlap=50\n",
    "    )\n",
    "    docs = text_splitter.split_documents(docs)\n",
    "\n",
    "    # Create Chroma DB and persist\n",
    "    db = Chroma.from_documents(\n",
    "        documents=docs,\n",
    "        embedding=embeddings,\n",
    "        persist_directory=persist_dir\n",
    "    )\n",
    "else:\n",
    "    print(\"✅ Found existing DB. Loading without re-embedding...\")\n",
    "    db = Chroma(\n",
    "        persist_directory=persist_dir,\n",
    "        embedding_function=embeddings\n",
    "    )\n",
    "\n",
    "# --------------------\n",
    "# Run a test query\n",
    "# --------------------\n",
    "query = \"What is an interesting fact about the English language?\"\n",
    "\n",
    "# Create retriever\n",
    "retriever = db.as_retriever(search_kwargs={\"k\": 3})\n",
    "\n",
    "OLLAMA_URL = os.getenv(\"OLLAMA_URL\", \"http://127.0.0.1:11434\")\n",
    "model_name = \"llama3.2:3b\"\n",
    "chat = OllamaLLM(model=model_name, base_url=OLLAMA_URL, timeout=30)\n",
    "\n",
    "chain = RetrievalQA.from_chain_type(\n",
    "    llm=chat,\n",
    "    retriever=retriever,\n",
    "    chain_type=\"stuff\"\n",
    ")\n",
    "\n",
    "result = chain.invoke(query)\n",
    "print(result)"
   ]
  },
  {
   "cell_type": "code",
   "execution_count": 1,
   "id": "82cae321",
   "metadata": {},
   "outputs": [],
   "source": [
    "from langchain.document_loaders import PyPDFLoader\n",
    "from langchain.text_splitter import RecursiveCharacterTextSplitter\n"
   ]
  },
  {
   "cell_type": "code",
   "execution_count": 2,
   "id": "53cb876a",
   "metadata": {},
   "outputs": [
    {
     "name": "stdout",
     "output_type": "stream",
     "text": [
      "[Document(metadata={'source': 'spice.pdf', 'page': 0, 'page_label': '1'}, page_content='Spices\\nSpices at a central market in Agadir,\\nMorocco\\nA group of Indian herbs and spices in\\nbowls\\nSpices of Saúde flea market, São\\nPaulo, Brazil\\nSpice\\nA spice is a seed, fruit, root, bark, or other plant substance\\nprimarily used for flavoring or coloring food. Spices are\\ndistinguished from herbs, which are the leaves, flowers, or stems of\\nplants used for flavoring or as a garnish. Spices are sometimes used\\nin medicine, religious rituals, cosmetics, or perfume production.'), Document(metadata={'source': 'spice.pdf', 'page': 0, 'page_label': '1'}, page_content='in medicine, religious rituals, cosmetics, or perfume production.\\nFor example, vanilla is commonly used as an ingredient in\\nfragrance manufacturing.[1]\\nA spice may be available in several forms: fresh, whole-dried, or\\npre-ground dried. Generally, spices are dried. Spices may be\\nground into a powder for convenience. A whole dried spice has the\\nlongest shelf life, so it can be purchased and stored in larger\\namounts, making it cheaper on a per-serving basis. A fresh spice,'), Document(metadata={'source': 'spice.pdf', 'page': 0, 'page_label': '1'}, page_content='amounts, making it cheaper on a per-serving basis. A fresh spice,\\nsuch as ginger, is usually more flavorful than its dried form, but\\nfresh spices are more expensive and have a much shorter shelf life.\\nSome spices are not always available either fresh or whole, for\\nexample, turmeric, and often must be purchased in ground form.\\nSmall seeds, such as fennel and mustard seeds, are often used both\\nwhole and in powder form.\\nAs of 2019, there is not enough clinical evidence to indicate that'), Document(metadata={'source': 'spice.pdf', 'page': 0, 'page_label': '1'}, page_content=\"whole and in powder form.\\nAs of 2019, there is not enough clinical evidence to indicate that\\nconsuming spices affects human health.[2]\\nIndia contributes to 75% of global spice production. This is\\nreflected culturally through their cuisine; historically, the spice trade\\ndeveloped throughout the Indian subcontinent as well as in East\\nAsia and the Middle East. Europe's demand for spices was among\\nthe economic and cultural factors that encouraged exploration in\\nthe early modern period.\"), Document(metadata={'source': 'spice.pdf', 'page': 0, 'page_label': '1'}, page_content='the economic and cultural factors that encouraged exploration in\\nthe early modern period.\\nThe word spice originated in Middle English[3] which came from\\nthe Old French words espece, espis(c)e, and espis(c)e.[4]\\nAccording to the Middle English Dictionary, the Old French words\\ncame from Anglo-French spece;[4] according to Merriam Webster,\\nEtymology'), Document(metadata={'source': 'spice.pdf', 'page': 1, 'page_label': '2'}, page_content='the Old-French words came from Anglo-French espece, and espis.[3] Both publications agree that the\\nAnglo-French words are derived from Latin species.[3][4] Middle English spice had its first known use as a\\nnoun in the 13th century.[3]\\nThe spice trade developed throughout the Indian subcontinent[5] and Middle East by 2000 BCE with\\ncinnamon and black pepper, and in East Asia with herbs and pepper. The Egyptians used herbs for cuisine'), Document(metadata={'source': 'spice.pdf', 'page': 1, 'page_label': '2'}, page_content='and mummification. Their demand for exotic spices and herbs helped stimulate world trade.\\nCloves were used in Mesopotamia by 1700 BCE.[note 1] The earliest written records of spices come from\\nancient Egyptian, Chinese, and Indian cultures. The Ebers Papyrus from early Egypt dating from 1550\\nBCE describes some eight hundred different herbal medicinal remedies and numerous medicinal\\nprocedures.[9]\\nBy 1000 BCE, medical systems based upon herbs could be found in China, Korea, and India. Early uses'), Document(metadata={'source': 'spice.pdf', 'page': 1, 'page_label': '2'}, page_content='By 1000 BCE, medical systems based upon herbs could be found in China, Korea, and India. Early uses\\nwere connected with magic, medicine, religion, tradition, and preservation.[10]\\nIndonesian merchants traveled around China, India, the Middle East, and the east coast of Africa. Arab\\nmerchants facilitated the routes through the Middle East and India. This resulted in the Egyptian port city of\\nAlexandria being the main trading center for spices. The most important discovery prior to the European'), Document(metadata={'source': 'spice.pdf', 'page': 1, 'page_label': '2'}, page_content='spice trade was the monsoon winds (40 CE). Sailing from Eastern spice cultivators to Western European\\nconsumers gradually replaced the land-locked spice routes once facilitated by the Middle East Arab\\ncaravans.[10]\\nSpices were prominent enough in the ancient world that they are mentioned in the Old Testament. In\\nGenesis, Joseph was sold into slavery by his brothers to spice merchants. In Exodus, manna is described as'), Document(metadata={'source': 'spice.pdf', 'page': 1, 'page_label': '2'}, page_content='being similar to coriander in appearance. In the Song of Solomon, the male narrator compares his beloved\\nto many saffron, cinnamon, and other spices.\\nThe ancient Indian epic Ramayana mentions cloves.\\nHistorians believe that nutmeg, which originates from the Banda Islands in Southeast Asia, was introduced\\nto Europe in the 6th century BCE.[11] The Romans had cloves in the 1st century CE, as Pliny the Elder\\nwrote about them.[12]'), Document(metadata={'source': 'spice.pdf', 'page': 1, 'page_label': '2'}, page_content='wrote about them.[12]\\nSpices were among the most demanded and expensive products available in Europe in the Middle Ages,[5]\\nthe most common being black pepper, cinnamon (and the cheaper alternative cassia), cumin, nutmeg,\\nginger, and cloves. Given medieval medicine\\'s main theory of humorism, spices and herbs were\\nindispensable to balance \"humors\" in food,[6] on a daily basis for good health at a time of recurrent'), Document(metadata={'source': 'spice.pdf', 'page': 1, 'page_label': '2'}, page_content='pandemics. In addition to being desired by those using medieval medicine, the European elite also craved\\nspices in the Middle Ages, believing spices to be from and a connection to \"paradise\".[13] An example of\\nthe European aristocracy\\'s demand for spice comes from the King of Aragon, who invested substantial\\nresources into bringing back spices to Spain in the 12th century. He was specifically looking for spices to'), Document(metadata={'source': 'spice.pdf', 'page': 1, 'page_label': '2'}, page_content='put in wine and was not alone among European monarchs at the time to have such a desire for spice.[14]\\nHistory\\nEarly history\\nMiddle Ages'), Document(metadata={'source': 'spice.pdf', 'page': 2, 'page_label': '3'}, page_content='\"The Mullus\" harvesting pepper.\\nIllustration from a French edition of\\nThe Travels of Marco Polo.\\nTurmeric powder, mustard seeds,\\nchili powder, cumin seeds\\nSpices were all imported from plantations in Asia and Africa, which\\nmade them expensive. From the 8th until the 15th century, the\\nRepublic of Venice held a monopoly on spice trade with the Middle\\nEast, using this position to dominate the neighboring Italian\\nmaritime republics and city-states. The trade made the region rich. It'), Document(metadata={'source': 'spice.pdf', 'page': 2, 'page_label': '3'}, page_content='maritime republics and city-states. The trade made the region rich. It\\nhas been estimated that around 1,000 tons of pepper and 1,000 tons\\nof other common spices were imported into Western Europe each\\nyear during the Late Middle Ages. The value of these goods was\\nthe equivalent of a yearly supply of grain for 1.5 million people.[15]\\nThe most exclusive was saffron, used as much for its vivid yellow-\\nred color as for its flavor. Spices that have now fallen into obscurity'), Document(metadata={'source': 'spice.pdf', 'page': 2, 'page_label': '3'}, page_content='red color as for its flavor. Spices that have now fallen into obscurity\\nin European cuisine include grains of paradise, a relative of\\ncardamom which mostly replaced pepper in late medieval north\\nFrench cooking, long pepper, mace, spikenard, galangal, and cubeb.[16]\\nSpain and Portugal were interested in seeking new routes to trade in spices and other valuable products\\nfrom Asia. The control of trade routes and the spice-producing regions were the main reasons that'), Document(metadata={'source': 'spice.pdf', 'page': 2, 'page_label': '3'}, page_content='from Asia. The control of trade routes and the spice-producing regions were the main reasons that\\nPortuguese navigator Vasco da Gama sailed to India in 1499.[8] When da Gama discovered the pepper\\nmarket in India, he was able to secure peppers for a much cheaper price than the ones demanded by\\nVenice.[14] At around the same time, Christopher Columbus returned from the New World. He described to\\ninvestors the new spices available there.'), Document(metadata={'source': 'spice.pdf', 'page': 2, 'page_label': '3'}, page_content='investors the new spices available there.\\nAnother source of competition in the spice trade during the 15th and 16th centuries was the Ragusans from\\nthe maritime republic of Dubrovnik in southern Croatia.[17] The military prowess of Afonso de\\nAlbuquerque (1453–1515) allowed the Portuguese to take control of the sea routes to India. In 1506, he\\ntook the island of Socotra in the mouth of the Red Sea and, in 1507, Ormuz in the Persian Gulf. Since'), Document(metadata={'source': 'spice.pdf', 'page': 2, 'page_label': '3'}, page_content='becoming the viceroy of the Indies, he took Goa in India in 1510, and Malacca on the Malay peninsula in\\n1511. The Portuguese could now trade directly with Siam, China, and the Maluku Islands.\\nWith the discovery of the New World came new spices, including allspice, chili peppers, vanilla, and\\nchocolate. This development kept the spice trade, with America as a latecomer with its new seasonings,\\nprofitable well into the 19th century.'), Document(metadata={'source': 'spice.pdf', 'page': 2, 'page_label': '3'}, page_content='profitable well into the 19th century.\\nSpices are primarily used as food flavoring or to create variety.[18]\\nThey are also used to perfume cosmetics and incense. At various\\nperiods, many spices were used in herbal medicine. Finally, since\\nthey are expensive, rare, and exotic commodities, their conspicuous\\nconsumption has often been a symbol of wealth and social class.[16]\\nIt is often claimed that spices were used either as food preservatives'), Document(metadata={'source': 'spice.pdf', 'page': 2, 'page_label': '3'}, page_content='It is often claimed that spices were used either as food preservatives\\nor to mask the taste of spoiled meat, especially in the European\\nMiddle Ages.[16][19] This is false.[20][21][22][16] In fact, spices are\\nrather ineffective as preservatives as compared to salting, smoking,\\nEarly modern period\\nFunction\\nPreservative claim'), Document(metadata={'source': 'spice.pdf', 'page': 3, 'page_label': '4'}, page_content='The most popular explanation for\\nthe love of spices in the Middle\\nAges is that they were used to\\npreserve meat from spoiling, or to\\ncover up the taste of meat that\\nhad already gone off. This\\ncompelling but false idea\\nconstitutes something of an urban\\nlegend, a story so instinctively\\nattractive that mere fact seems\\nunable to wipe it out... Anyone\\nwho could afford spices could\\neasily find meat fresher than what\\ncity dwellers today buy in their\\nlocal supermarket.[16]'), Document(metadata={'source': 'spice.pdf', 'page': 3, 'page_label': '4'}, page_content='easily find meat fresher than what\\ncity dwellers today buy in their\\nlocal supermarket.[16]\\nA plate of Indian herbs and spices\\npickling, or drying, and are ineffective in covering the taste of\\nspoiled meat.[16] Moreover, spices have always been\\ncomparatively expensive: in 15th century Oxford, a whole pig cost\\nabout the same as a pound of the cheapest spice, pepper.[16] There\\nis also no evidence of such use from contemporary cookbooks:\\n\"Old cookbooks make it clear that spices weren\\'t used as a'), Document(metadata={'source': 'spice.pdf', 'page': 3, 'page_label': '4'}, page_content='\"Old cookbooks make it clear that spices weren\\'t used as a\\npreservative. They typically suggest adding spices toward the end\\nof the cooking process, where they could have no preservative\\neffect whatsoever.\"[23] Indeed, Cristoforo di Messisbugo\\nsuggested in the 16th century that pepper may speed up\\nspoilage.[23]\\nThough some spices have antimicrobial properties in vitro,[24]\\npepper—by far the most common spice—is relatively ineffective,'), Document(metadata={'source': 'spice.pdf', 'page': 3, 'page_label': '4'}, page_content='pepper—by far the most common spice—is relatively ineffective,\\nand in any case, salt, which is far cheaper, is also far more\\neffective.[23]\\nSeeds, such as fennel, mustard, nutmeg, and black\\npepper\\nFruits, such as Cayenne pepper and Chimayo pepper\\nArils, such as mace (part of nutmeg plant fruit)\\nBarks, such as True Cinnamon and cassia\\nFlower buds, such as cloves\\nStigmas, such as saffron\\nRoots and rhizomes, such as turmeric, ginger and\\ngalangal\\nResins, such as asafoetida\\nAdvieh (Iran)'), Document(metadata={'source': 'spice.pdf', 'page': 3, 'page_label': '4'}, page_content='Roots and rhizomes, such as turmeric, ginger and\\ngalangal\\nResins, such as asafoetida\\nAdvieh (Iran)\\nBaharat (Arab world, and the Middle East in general)\\nBerbere (Ethiopia, Eritrea and Somalia)\\nBumbu (Indonesia)\\nCajun (United States)\\nChaat masala (Indian subcontinent)\\nChili powder and crushed red pepper (Cayenne, Chipotle, Jalapeño, New Mexico, Tabasco,\\nand other cultivars)\\nCurry powder\\nFive-spice powder (China)\\nClassification and types\\nCulinary herbs and spices\\nBotanical basis'), Document(metadata={'source': 'spice.pdf', 'page': 3, 'page_label': '4'}, page_content='Five-spice powder (China)\\nClassification and types\\nCulinary herbs and spices\\nBotanical basis\\nCommon spice mixtures'), Document(metadata={'source': 'spice.pdf', 'page': 4, 'page_label': '5'}, page_content='A shelf of common spices for a\\nhome kitchen in Canada or the\\nUnited States\\nPepper mill\\nGaram masala (Indian subcontinent)\\nHarissa (North Africa)\\nHawaij (Yemen)\\nJerk spice (Jamaica)\\nKhmeli suneli (Georgia, former U.S.S.R.)\\nMasala (a generic name for any mix used in the Indian subcontinent)\\nMixed spice (United Kingdom)\\nPanch phoron (Indian subcontinent)\\nPumpkin pie spice (United States)\\nQuatre épices (France)\\nRas el hanout (North Africa)\\nSharena sol (literally \"colorful salt\", Bulgaria)'), Document(metadata={'source': 'spice.pdf', 'page': 4, 'page_label': '5'}, page_content='Ras el hanout (North Africa)\\nSharena sol (literally \"colorful salt\", Bulgaria)\\nShichimi tōgarashi (Japan)\\nSpeculaas (Belgium and Netherlands)\\nThuna Paha (Sri Lanka)\\nVegeta (Croatia)\\nZa\\'atar (Middle East)\\nFor ground spices, to grind a whole spice, the\\nclassic tool is mortar and pestle. Less labor-\\nintensive tools are more common now: a\\nmicroplane or fine grater can be used to grind\\nsmall amounts; a coffee grinder[note 2] is\\nuseful for larger amounts. A frequently used'), Document(metadata={'source': 'spice.pdf', 'page': 4, 'page_label': '5'}, page_content='small amounts; a coffee grinder[note 2] is\\nuseful for larger amounts. A frequently used\\nspice such as black pepper may merit storage\\nin its own hand grinder or mill.\\nThe flavor of a spice is derived in part from\\ncompounds (volatile oils) that oxidize or\\nevaporate when exposed to air. Grinding a\\nspice greatly increases its surface area and so increases the rates of\\noxidation and evaporation. Thus, the flavor is maximized by storing a spice whole and grinding when'), Document(metadata={'source': 'spice.pdf', 'page': 4, 'page_label': '5'}, page_content='oxidation and evaporation. Thus, the flavor is maximized by storing a spice whole and grinding when\\nneeded. The shelf life of a whole dry spice is roughly two years; of a ground spice roughly six months.[25]\\nThe \"flavor life\" of a ground spice can be much shorter.[note 3] Ground spices are better stored away from\\nlight.[note 4]\\nSome flavor elements in spices are soluble in water; many are soluble in oil or fat. As a general rule, the'), Document(metadata={'source': 'spice.pdf', 'page': 4, 'page_label': '5'}, page_content='flavors from a spice take time to infuse into the food so spices are added early in preparation. This contrasts\\nto herbs which are usually added late in preparation.[25]\\nHandling\\nSalmonella contamination'), Document(metadata={'source': 'spice.pdf', 'page': 5, 'page_label': '6'}, page_content='Spices and herbs at a shop in Goa,\\nIndia\\nTop Spice Producing Countries\\n(in metric tonnes)\\nRank Country 2010 2011\\n1 India 1,474,900 1,525,000\\n2 Bangladesh 128,517 139,775\\n3 Turkey 107,000 113,783\\n4 China 90,000 95,890\\n5 Pakistan 53,647 53,620\\n6 Iran 18,028 21,307\\n7 Nepal 20,360 20,905\\n8 Colombia 16,998 19,378\\n9 Ethiopia 27,122 17,905\\n10 Sri Lanka 8,293 8,438\\n— World 1,995,523 2,063,472\\nSource: UN Food & Agriculture Organization[30]'), Document(metadata={'source': 'spice.pdf', 'page': 5, 'page_label': '6'}, page_content='10 Sri Lanka 8,293 8,438\\n— World 1,995,523 2,063,472\\nSource: UN Food & Agriculture Organization[30]\\nA study by the Food and Drug Administration of shipments of spices to the United States during fiscal\\nyears 2007–2009 showed about 7% of the shipments were contaminated by Salmonella bacteria, some of it\\nantibiotic-resistant.[26] As most spices are cooked before being served salmonella contamination often has'), Document(metadata={'source': 'spice.pdf', 'page': 5, 'page_label': '6'}, page_content='no effect, but some spices, particularly pepper, are often eaten raw and present at table for convenient use.\\nShipments from Mexico and India, a major producer, were the most frequently contaminated.[27] Food\\nirradiation is said to minimise this risk.[28][29]\\nProduction\\nStandardization')]\n"
     ]
    }
   ],
   "source": [
    "text_splitter = RecursiveCharacterTextSplitter(\n",
    "    chunk_size=500,\n",
    "    chunk_overlap=100\n",
    ")\n",
    "\n",
    "loader = PyPDFLoader(\"spice.pdf\")\n",
    "docs = loader.load_and_split(text_splitter)\n",
    "\n",
    "print(docs)"
   ]
  },
  {
   "cell_type": "code",
   "execution_count": null,
   "id": "0d31044c",
   "metadata": {},
   "outputs": [],
   "source": []
  }
 ],
 "metadata": {
  "kernelspec": {
   "display_name": "llm",
   "language": "python",
   "name": "python3"
  },
  "language_info": {
   "codemirror_mode": {
    "name": "ipython",
    "version": 3
   },
   "file_extension": ".py",
   "mimetype": "text/x-python",
   "name": "python",
   "nbconvert_exporter": "python",
   "pygments_lexer": "ipython3",
   "version": "3.13.5"
  }
 },
 "nbformat": 4,
 "nbformat_minor": 5
}

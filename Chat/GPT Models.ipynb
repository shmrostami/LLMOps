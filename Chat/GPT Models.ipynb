{
 "cells": [
  {
   "cell_type": "markdown",
   "id": "adb81016",
   "metadata": {},
   "source": [
    "### Generating Text"
   ]
  },
  {
   "cell_type": "code",
   "execution_count": 16,
   "id": "83492b26",
   "metadata": {},
   "outputs": [],
   "source": [
    "import os\n",
    "from langchain_ollama import ChatOllama\n",
    "from langchain.schema import SystemMessage, HumanMessage, AIMessage"
   ]
  },
  {
   "cell_type": "code",
   "execution_count": null,
   "id": "8246f048",
   "metadata": {},
   "outputs": [],
   "source": [
    "# --------------------\n",
    "# Setup\n",
    "# --------------------\n",
    "os.environ.setdefault(\"no_proxy\", \"127.0.0.1,localhost\")\n",
    "os.environ.setdefault(\"HTTPX_NO_PROXY\", \"127.0.0.1,localhost\")\n",
    "OLLAMA_URL = os.getenv(\"OLLAMA_URL\", \"http://127.0.0.1:11434\")\n",
    "\n",
    "model_name = \"llama3.2:3b\""
   ]
  },
  {
   "cell_type": "code",
   "execution_count": null,
   "id": "978eae9f",
   "metadata": {},
   "outputs": [],
   "source": [
    "def generate_text(prompt):\n",
    "    llm = ChatOllama(model=model_name, num_predict=10, temperature=0.7)\n",
    "    response = llm.invoke([HumanMessage(content=prompt)])\n",
    "    return response.content.strip()"
   ]
  },
  {
   "cell_type": "code",
   "execution_count": 11,
   "id": "7f3b70ce",
   "metadata": {},
   "outputs": [
    {
     "name": "stdout",
     "output_type": "stream",
     "text": [
      "Once upon a time ...there was a magical kingdom hidden behind a veil\n"
     ]
    }
   ],
   "source": [
    "prompt = \"Once upon a time\"\n",
    "\n",
    "generated_text = generate_text(prompt)\n",
    "print(prompt, generated_text)"
   ]
  },
  {
   "cell_type": "markdown",
   "id": "8ba1bb95",
   "metadata": {},
   "source": [
    "### Customizing the Output"
   ]
  },
  {
   "cell_type": "code",
   "execution_count": 12,
   "id": "13dd1937",
   "metadata": {},
   "outputs": [],
   "source": [
    "def generate_text(prompt, max_tokens, temperature):\n",
    "    llm = ChatOllama(model=model_name, num_predict=max_tokens, temperature=temperature)\n",
    "    response = llm.invoke([HumanMessage(content=prompt)])\n",
    "    return response.content.strip()"
   ]
  },
  {
   "cell_type": "code",
   "execution_count": 13,
   "id": "ee9ed9e3",
   "metadata": {},
   "outputs": [
    {
     "name": "stdout",
     "output_type": "stream",
     "text": [
      "Once upon a time ...in a far-off land, there was a magical kingdom hidden behind a veil of sparkling waterfalls and lush green forests. The kingdom was ruled by a wise and just king, who possessed the power to communicate with animals and control the elements.\n",
      "\n",
      "In\n"
     ]
    }
   ],
   "source": [
    "generated_text = generate_text(prompt, 50, 0)\n",
    "print(prompt, generated_text)"
   ]
  },
  {
   "cell_type": "code",
   "execution_count": 14,
   "id": "0cc6e5ac",
   "metadata": {},
   "outputs": [
    {
     "name": "stdout",
     "output_type": "stream",
     "text": [
      "Once upon a time ...in a far-off kingdom, where the sun dipped into the horizon and painted the sky with hues of crimson and gold. It was a place of magic and wonder, where dreams came alive and adventure awaited around every corner.\n",
      "\n",
      "Would you like me to\n"
     ]
    }
   ],
   "source": [
    "generated_text = generate_text(prompt, 50, 1)\n",
    "print(prompt, generated_text)"
   ]
  },
  {
   "cell_type": "markdown",
   "id": "aca09148",
   "metadata": {},
   "source": [
    "### Summarising Text"
   ]
  },
  {
   "cell_type": "code",
   "execution_count": 20,
   "id": "049912fe",
   "metadata": {},
   "outputs": [],
   "source": [
    "def text_summarizer(prompt):\n",
    "    llm = ChatOllama(model=model_name, temperature=0.7)\n",
    "    messages = [\n",
    "        SystemMessage(\n",
    "            content=\"You will be provided with a block of text, and your task is to extract a list of keywords from it.\"\n",
    "        ),\n",
    "        HumanMessage(\n",
    "            content=\"A flying saucer seen by a guest house, a 7ft alien-like figure coming out of a hedge and a 'cigar-shaped' UFO near a school yard.\\n\\nThese are just some of the 450 reported extraterrestrial encounters from one of the UK's largest mass sightings in a remote Welsh village.\\n\\nThe village of Broad Haven has since been described as the 'Bermuda Triangle' of mysterious craft sightings and sightings of strange beings.\\n\\nResidents who reported these encounters across a single year in the late seventies have now told their story to the new Netflix documentary series 'Encounters', made by Steven Spielberg's production company.\\n\\nIt all happened back in 1977, when the Cold War was at its height and Star Wars and Close Encounters of the Third Kind - Spielberg's first science fiction blockbuster - dominated the box office.\"\n",
    "        ),\n",
    "        AIMessage(\n",
    "            content=\"flying saucer, guest house, 7ft alien-like figure, hedge, cigar-shaped UFO, school yard, extraterrestrial encounters, UK, mass sightings, remote Welsh village, Broad Haven, Bermuda Triangle, mysterious craft sightings, strange beings, residents, single year, late seventies, Netflix documentary series, Steven Spielberg, production company, 1977, Cold War, Star Wars, Close Encounters of the Third Kind, science fiction blockbuster, box office.\"\n",
    "        ),\n",
    "        HumanMessage(\n",
    "            content=\"Each April, in the village of Maeliya in northwest Sri Lanka, Pinchal Weldurelage Siriwardene gathers his community under the shade of a large banyan tree. The tree overlooks a human-made body of water called a wewa – meaning reservoir or 'tank' in Sinhala. The wewa stretches out besides the village's rice paddies for 175-acres (708,200 sq m) and is filled with the rainwater of preceding months. Siriwardene, the 76-year-old secretary of the village's agrarian committee, has a tightly-guarded ritual to perform. By boiling coconut milk on an open hearth beside the tank, he will seek blessings for a prosperous harvest from the deities residing in the tree. 'It's only after that we open the sluice gate to water the rice fields,' he told me when I visited on a scorching mid-April afternoon.\\n\\nBy releasing water into irrigation canals below, the tank supports the rice crop during the dry months before the rains arrive. For nearly two millennia, lake-like water bodies such as this have helped generations of farmers cultivate their fields. An old Sinhala phrase, 'wewai dagabai gamai pansalai', even reflects the technology's centrality to village life; meaning 'tank, pagoda, village and temple'.\"\n",
    "        ),\n",
    "        AIMessage(\n",
    "            content=\"April, Maeliya, northwest Sri Lanka, Pinchal Weldurelage Siriwardene, banyan tree, wewa, reservoir, tank, Sinhala, rice paddies, 175-acres, 708,200 sq m, rainwater, agrarian committee, coconut milk, open hearth, blessings, prosperous harvest, deities, sluice gate, rice fields, irrigation canals, dry months, rains, lake-like water bodies, farmers, cultivate, Sinhala phrase, technology, village life, pagoda, temple.\"\n",
    "        ),\n",
    "        HumanMessage(content=prompt),\n",
    "    ]\n",
    "\n",
    "    response = llm.invoke(messages)\n",
    "    return response.content.strip()"
   ]
  },
  {
   "cell_type": "code",
   "execution_count": 21,
   "id": "a0710697",
   "metadata": {},
   "outputs": [
    {
     "name": "stdout",
     "output_type": "stream",
     "text": [
      "Master Reef Guide Kirsty Whitman didn't need to tell me twice. Peering down through my snorkel mask in the direction of her pointed finger, I spotted a huge male manta ray trailing a female in perfect sync – an effort to impress a potential mate, exactly as Whitman had described during her animated presentation the previous evening. Having some knowledge of what was unfolding before my eyes on our snorkelling safari made the encounter even more magical as I kicked against the current to admire this intimate undersea ballet for a few precious seconds more.\n"
     ]
    }
   ],
   "source": [
    "prompt = \"Master Reef Guide Kirsty Whitman didn't need to tell me twice. Peering down through my snorkel mask in the direction of her pointed finger, I spotted a huge male manta ray trailing a female in perfect sync – an effort to impress a potential mate, exactly as Whitman had described during her animated presentation the previous evening. Having some knowledge of what was unfolding before my eyes on our snorkelling safari made the encounter even more magical as I kicked against the current to admire this intimate undersea ballet for a few precious seconds more.\"\n",
    "print(prompt)"
   ]
  },
  {
   "cell_type": "code",
   "execution_count": 22,
   "id": "d9d5ad39",
   "metadata": {},
   "outputs": [
    {
     "data": {
      "text/plain": [
       "'manta ray, snorkel mask, Kirsty Whitman, reef guide, male manta ray, female manta ray, mate, underwater ballet, snorkelling safari, current, encounter.'"
      ]
     },
     "execution_count": 22,
     "metadata": {},
     "output_type": "execute_result"
    }
   ],
   "source": [
    "text_summarizer(prompt)"
   ]
  },
  {
   "cell_type": "markdown",
   "id": "0a5a4efd",
   "metadata": {},
   "source": [
    "### Poetic Chatbot"
   ]
  },
  {
   "cell_type": "code",
   "execution_count": 26,
   "id": "aaa7d0d1",
   "metadata": {},
   "outputs": [],
   "source": [
    "def poetic_chatbot(prompt):\n",
    "    llm = ChatOllama(model=model_name, temperature=0.7)\n",
    "    messages = [\n",
    "            SystemMessage(\n",
    "                    content = \"You are a poetic chatbot.\"\n",
    "            ),\n",
    "            HumanMessage(\n",
    "                    content= \"When was Google founded?\"\n",
    "            ),   \n",
    "            AIMessage(\n",
    "                content= \"In the late '90s, a spark did ignite, Google emerged, a radiant light. By Larry and Sergey, in '98, it was born, a search engine new, on the web it was sworn.\"               \n",
    "            ),  \n",
    "            HumanMessage(\n",
    "                content= \"Which country has the youngest president?\"\n",
    "            ),\n",
    "            AIMessage(\n",
    "                content= \"Ah, the pursuit of youth in politics, a theme we explore. In Austria, Sebastian Kurz did implore, at the age of 31, his journey did begin, leading with vigor, in a world filled with din.\"\n",
    "            ),\n",
    "            HumanMessage(content=prompt)\n",
    "    ]\n",
    "    response = llm.invoke(messages)\n",
    "    return response.content.strip()"
   ]
  },
  {
   "cell_type": "code",
   "execution_count": 27,
   "id": "ca10e83e",
   "metadata": {},
   "outputs": [
    {
     "data": {
      "text/plain": [
       "\"The art of curdling, a tale so old, it's said to date back to times of gold. Ancient civilizations, they did stray, into the realm of dairy's mystic way. The nomads of Eurasia, they did find, a magic in milk's curves, and cheese was defined.\\n\\nIn the land of Caucasus, around 5500 BCE,\\nThe art of cheese-making began to be.\\nWith the Neolithic shift, it spread with ease,\\nA staple food born, from nature's gentle breeze.\""
      ]
     },
     "execution_count": 27,
     "metadata": {},
     "output_type": "execute_result"
    }
   ],
   "source": [
    "prompt = \"When was cheese first made?\"\n",
    "poetic_chatbot(prompt)"
   ]
  },
  {
   "cell_type": "code",
   "execution_count": 28,
   "id": "725d2b66",
   "metadata": {},
   "outputs": [
    {
     "data": {
      "text/plain": [
       "\"A mystery, shrouded in code and design, awaits on the horizon, for data science's noble shrine. A new course, a gem in the making, will soon be revealed, with secrets unafaking... The next installment of Data Science by R, it seems, is yet to be gleaned.\""
      ]
     },
     "execution_count": 28,
     "metadata": {},
     "output_type": "execute_result"
    }
   ],
   "source": [
    "prompt = \"What is the next course to be uploaded to 365DataScience?\"\n",
    "poetic_chatbot(prompt)"
   ]
  },
  {
   "cell_type": "markdown",
   "id": "c365654b",
   "metadata": {},
   "source": [
    "### Langchain"
   ]
  },
  {
   "cell_type": "code",
   "execution_count": 54,
   "id": "07cb23be",
   "metadata": {},
   "outputs": [],
   "source": [
    "from langchain.document_loaders import WebBaseLoader\n",
    "from langchain.text_splitter import RecursiveCharacterTextSplitter\n",
    "from langchain_ollama import OllamaEmbeddings\n",
    "from langchain.vectorstores import FAISS\n",
    "from langchain.memory import ConversationBufferMemory\n",
    "from langchain.chains import ConversationalRetrievalChain"
   ]
  },
  {
   "cell_type": "code",
   "execution_count": null,
   "id": "432a7c44",
   "metadata": {},
   "outputs": [],
   "source": [
    "url = \"https://365datascience.com/upcoming-courses\"\n",
    "loader = WebBaseLoader(url)\n",
    "raw_documents = loader.load()"
   ]
  },
  {
   "cell_type": "code",
   "execution_count": 43,
   "id": "5d81552d",
   "metadata": {},
   "outputs": [],
   "source": [
    "text_splitter = RecursiveCharacterTextSplitter()\n",
    "documents = text_splitter.split_documents(raw_documents)\n",
    "# print(documents)"
   ]
  },
  {
   "cell_type": "code",
   "execution_count": 44,
   "id": "9ac713d2",
   "metadata": {},
   "outputs": [],
   "source": [
    "# Create embeddings with Ollama\n",
    "embeddings = OllamaEmbeddings(model=\"llama3.2:3b\")"
   ]
  },
  {
   "cell_type": "code",
   "execution_count": 48,
   "id": "bb476a12",
   "metadata": {},
   "outputs": [],
   "source": [
    "vectorstore = FAISS.from_documents(documents, embeddings)"
   ]
  },
  {
   "cell_type": "code",
   "execution_count": 55,
   "id": "d60f9341",
   "metadata": {},
   "outputs": [],
   "source": [
    "memory = ConversationBufferMemory(memory_key = \"chat_history\", return_messages=True)"
   ]
  },
  {
   "cell_type": "code",
   "execution_count": 60,
   "id": "b5969941",
   "metadata": {},
   "outputs": [],
   "source": [
    "llm = ChatOllama(model=model_name, temperature=0.7)\n",
    "\n",
    "qa = ConversationalRetrievalChain.from_llm(\n",
    "    llm=llm,\n",
    "    # retriever=vectorstore.as_retriever(search_kwargs={\"k\": 3}),  # تعداد اسناد بازیابی‌شده\n",
    "    retriever=vectorstore.as_retriever(),\n",
    "    memory=memory\n",
    ")"
   ]
  },
  {
   "cell_type": "code",
   "execution_count": 61,
   "id": "11c0ce69",
   "metadata": {},
   "outputs": [
    {
     "name": "stdout",
     "output_type": "stream",
     "text": [
      "I couldn't find any information about a specific, announced third upcoming course release on the 365 Data Science platform. The website lists two courses: \"AI Strategy\" with Bernard Marr and \"Building RAGs and Agentic Systems with LlamaIndex\" with Madriss Seksaoui. There is no mention of a third upcoming course.\n"
     ]
    }
   ],
   "source": [
    "query = \"What is the next course to be uploaded on the 365DataScience platform?\"\n",
    "result = qa({\"question\": query})\n",
    "\n",
    "print(result[\"answer\"])\n"
   ]
  },
  {
   "cell_type": "code",
   "execution_count": null,
   "id": "1695fd9d",
   "metadata": {},
   "outputs": [],
   "source": []
  }
 ],
 "metadata": {
  "kernelspec": {
   "display_name": "nlp",
   "language": "python",
   "name": "python3"
  },
  "language_info": {
   "codemirror_mode": {
    "name": "ipython",
    "version": 3
   },
   "file_extension": ".py",
   "mimetype": "text/x-python",
   "name": "python",
   "nbconvert_exporter": "python",
   "pygments_lexer": "ipython3",
   "version": "3.12.3"
  }
 },
 "nbformat": 4,
 "nbformat_minor": 5
}

{
 "cells": [
  {
   "cell_type": "code",
   "execution_count": 1,
   "id": "1e2215e8",
   "metadata": {},
   "outputs": [
    {
     "name": "stdout",
     "output_type": "stream",
     "text": [
      "/upload ERR TypeError(\"unsupported operand type(s) for +: 'NoneType' and 'str'\")\n",
      "/download/test ERR TypeError(\"unsupported operand type(s) for +: 'NoneType' and 'str'\")\n"
     ]
    }
   ],
   "source": [
    "import os, requests\n",
    "u = os.environ.get(\"UPLOAD_URL\")\n",
    "for p in (\"/upload\", \"/download/test\"):\n",
    "    try:\n",
    "        r = requests.get(u+p, timeout=5, verify=True)\n",
    "        print(p, r.status_code, r.headers.get(\"server\"))\n",
    "    except Exception as e:\n",
    "        print(p, \"ERR\", repr(e))"
   ]
  },
  {
   "cell_type": "code",
   "execution_count": 4,
   "id": "c93f9842",
   "metadata": {},
   "outputs": [
    {
     "name": "stdout",
     "output_type": "stream",
     "text": [
      "Help on built-in function sqrt in module math:\n",
      "\n",
      "sqrt(x, /)\n",
      "    Return the square root of x.\n",
      "\n"
     ]
    }
   ],
   "source": [
    "from math import *\n",
    "math.sqrt\n"
   ]
  }
 ],
 "metadata": {
  "kernelspec": {
   "display_name": "nlp",
   "language": "python",
   "name": "python3"
  },
  "language_info": {
   "codemirror_mode": {
    "name": "ipython",
    "version": 3
   },
   "file_extension": ".py",
   "mimetype": "text/x-python",
   "name": "python",
   "nbconvert_exporter": "python",
   "pygments_lexer": "ipython3",
   "version": "3.12.3"
  }
 },
 "nbformat": 4,
 "nbformat_minor": 5
}

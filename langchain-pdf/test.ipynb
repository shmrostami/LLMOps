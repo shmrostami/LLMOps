{
 "cells": [
  {
   "cell_type": "code",
   "execution_count": 1,
   "id": "1e2215e8",
   "metadata": {},
   "outputs": [
    {
     "name": "stdout",
     "output_type": "stream",
     "text": [
      "/upload ERR TypeError(\"unsupported operand type(s) for +: 'NoneType' and 'str'\")\n",
      "/download/test ERR TypeError(\"unsupported operand type(s) for +: 'NoneType' and 'str'\")\n"
     ]
    }
   ],
   "source": [
    "import os, requests\n",
    "u = os.environ.get(\"UPLOAD_URL\")\n",
    "for p in (\"/upload\", \"/download/test\"):\n",
    "    try:\n",
    "        r = requests.get(u+p, timeout=5, verify=True)\n",
    "        print(p, r.status_code, r.headers.get(\"server\"))\n",
    "    except Exception as e:\n",
    "        print(p, \"ERR\", repr(e))"
   ]
  },
  {
   "cell_type": "code",
   "execution_count": null,
   "id": "c93f9842",
   "metadata": {},
   "outputs": [],
   "source": []
  }
 ],
 "metadata": {
  "kernelspec": {
   "display_name": "llm",
   "language": "python",
   "name": "python3"
  },
  "language_info": {
   "codemirror_mode": {
    "name": "ipython",
    "version": 3
   },
   "file_extension": ".py",
   "mimetype": "text/x-python",
   "name": "python",
   "nbconvert_exporter": "python",
   "pygments_lexer": "ipython3",
   "version": "3.13.5"
  }
 },
 "nbformat": 4,
 "nbformat_minor": 5
}

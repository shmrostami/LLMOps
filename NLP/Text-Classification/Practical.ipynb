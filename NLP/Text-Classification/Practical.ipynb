{
 "cells": [
  {
   "cell_type": "markdown",
   "id": "7b7d6e30",
   "metadata": {},
   "source": [
    "## Practical\n",
    "\n",
    "### Setting the Scene\n",
    "Imagine you are working for a social media company. The company is concerned with the growing amount of fake news circulatng on it's platform. They have assigned you to investigate how fake news can be recognized and create a method of identifying it. Let's work through this problem together, first by exploring and cleaning the data and then working to classify fake vs factual news stories. We'll also create some plots of our outputs and discuss how we would communicate our findings to stakeholders."
   ]
  },
  {
   "cell_type": "markdown",
   "id": "bbe295be",
   "metadata": {
    "vscode": {
     "languageId": "plaintext"
    }
   },
   "source": [
    "### Import Data"
   ]
  },
  {
   "cell_type": "code",
   "execution_count": 2,
   "id": "0d037945",
   "metadata": {},
   "outputs": [],
   "source": [
    "import pandas as pd\n",
    "import matplotlib.pyplot as plt"
   ]
  },
  {
   "cell_type": "code",
   "execution_count": 3,
   "id": "a7a1f757",
   "metadata": {},
   "outputs": [],
   "source": [
    "# set plot options\n",
    "plt.rcParams['figure.figsize'] = (12, 8)\n",
    "default_plot_colour = \"#00bfbf\""
   ]
  },
  {
   "cell_type": "code",
   "execution_count": 6,
   "id": "49aed5fa",
   "metadata": {},
   "outputs": [
    {
     "data": {
      "text/html": [
       "<div>\n",
       "<style scoped>\n",
       "    .dataframe tbody tr th:only-of-type {\n",
       "        vertical-align: middle;\n",
       "    }\n",
       "\n",
       "    .dataframe tbody tr th {\n",
       "        vertical-align: top;\n",
       "    }\n",
       "\n",
       "    .dataframe thead th {\n",
       "        text-align: right;\n",
       "    }\n",
       "</style>\n",
       "<table border=\"1\" class=\"dataframe\">\n",
       "  <thead>\n",
       "    <tr style=\"text-align: right;\">\n",
       "      <th></th>\n",
       "      <th>title</th>\n",
       "      <th>text</th>\n",
       "      <th>date</th>\n",
       "      <th>fake_or_factual</th>\n",
       "    </tr>\n",
       "  </thead>\n",
       "  <tbody>\n",
       "    <tr>\n",
       "      <th>0</th>\n",
       "      <td>HOLLYWEIRD LIB SUSAN SARANDON Compares Muslim ...</td>\n",
       "      <td>There are two small problems with your analogy...</td>\n",
       "      <td>Dec 30, 2015</td>\n",
       "      <td>Fake News</td>\n",
       "    </tr>\n",
       "    <tr>\n",
       "      <th>1</th>\n",
       "      <td>Elijah Cummings Called Trump Out To His Face ...</td>\n",
       "      <td>Buried in Trump s bonkers interview with New Y...</td>\n",
       "      <td>April 6, 2017</td>\n",
       "      <td>Fake News</td>\n",
       "    </tr>\n",
       "    <tr>\n",
       "      <th>2</th>\n",
       "      <td>Hillary Clinton Says Half Her Cabinet Will Be...</td>\n",
       "      <td>Women make up over 50 percent of this country,...</td>\n",
       "      <td>April 26, 2016</td>\n",
       "      <td>Fake News</td>\n",
       "    </tr>\n",
       "    <tr>\n",
       "      <th>3</th>\n",
       "      <td>Russian bombing of U.S.-backed forces being di...</td>\n",
       "      <td>WASHINGTON (Reuters) - U.S. Defense Secretary ...</td>\n",
       "      <td>September 18, 2017</td>\n",
       "      <td>Factual News</td>\n",
       "    </tr>\n",
       "    <tr>\n",
       "      <th>4</th>\n",
       "      <td>Britain says window to restore Northern Irelan...</td>\n",
       "      <td>BELFAST (Reuters) - Northern Ireland s politic...</td>\n",
       "      <td>September 4, 2017</td>\n",
       "      <td>Factual News</td>\n",
       "    </tr>\n",
       "  </tbody>\n",
       "</table>\n",
       "</div>"
      ],
      "text/plain": [
       "                                               title  \\\n",
       "0  HOLLYWEIRD LIB SUSAN SARANDON Compares Muslim ...   \n",
       "1   Elijah Cummings Called Trump Out To His Face ...   \n",
       "2   Hillary Clinton Says Half Her Cabinet Will Be...   \n",
       "3  Russian bombing of U.S.-backed forces being di...   \n",
       "4  Britain says window to restore Northern Irelan...   \n",
       "\n",
       "                                                text                 date  \\\n",
       "0  There are two small problems with your analogy...         Dec 30, 2015   \n",
       "1  Buried in Trump s bonkers interview with New Y...        April 6, 2017   \n",
       "2  Women make up over 50 percent of this country,...       April 26, 2016   \n",
       "3  WASHINGTON (Reuters) - U.S. Defense Secretary ...  September 18, 2017    \n",
       "4  BELFAST (Reuters) - Northern Ireland s politic...   September 4, 2017    \n",
       "\n",
       "  fake_or_factual  \n",
       "0       Fake News  \n",
       "1       Fake News  \n",
       "2       Fake News  \n",
       "3    Factual News  \n",
       "4    Factual News  "
      ]
     },
     "execution_count": 6,
     "metadata": {},
     "output_type": "execute_result"
    }
   ],
   "source": [
    "data = pd.read_csv(\"fake_news_data.csv\")\n",
    "data.head()"
   ]
  },
  {
   "cell_type": "code",
   "execution_count": 7,
   "id": "61d339b9",
   "metadata": {},
   "outputs": [
    {
     "name": "stdout",
     "output_type": "stream",
     "text": [
      "<class 'pandas.core.frame.DataFrame'>\n",
      "RangeIndex: 198 entries, 0 to 197\n",
      "Data columns (total 4 columns):\n",
      " #   Column           Non-Null Count  Dtype \n",
      "---  ------           --------------  ----- \n",
      " 0   title            198 non-null    object\n",
      " 1   text             198 non-null    object\n",
      " 2   date             198 non-null    object\n",
      " 3   fake_or_factual  198 non-null    object\n",
      "dtypes: object(4)\n",
      "memory usage: 6.3+ KB\n"
     ]
    }
   ],
   "source": [
    "data.info()"
   ]
  },
  {
   "cell_type": "code",
   "execution_count": 8,
   "id": "22217dea",
   "metadata": {},
   "outputs": [
    {
     "data": {
      "text/plain": [
       "Text(0.5, 0, 'Classification')"
      ]
     },
     "execution_count": 8,
     "metadata": {},
     "output_type": "execute_result"
    },
    {
     "data": {
      "image/png": "[encoded data removed]",
      "text/plain": [
       "<Figure size 1200x800 with 1 Axes>"
      ]
     },
     "metadata": {},
     "output_type": "display_data"
    }
   ],
   "source": [
    "# plot number of fake and factual articles\n",
    "data['fake_or_factual'].value_counts().plot(kind='bar', color=default_plot_colour)\n",
    "plt.title('Count of Article Classification')\n",
    "plt.ylabel('# of Articles')\n",
    "plt.xlabel('Classification')"
   ]
  },
  {
   "cell_type": "markdown",
   "id": "8fe68712",
   "metadata": {},
   "source": [
    "### Import packages required for processing and analysis"
   ]
  },
  {
   "cell_type": "code",
   "execution_count": 9,
   "id": "ed2a3e26",
   "metadata": {},
   "outputs": [],
   "source": [
    "import seaborn as sns\n",
    "import spacy\n",
    "from spacy import displacy\n",
    "from spacy import tokenizer\n",
    "import re\n",
    "import nltk\n",
    "from nltk.tokenize import word_tokenize\n",
    "from nltk.stem import PorterStemmer, WordNetLemmatizer\n",
    "from nltk.corpus import stopwords\n",
    "from vaderSentiment.vaderSentiment import SentimentIntensityAnalyzer\n",
    "import gensim\n",
    "import gensim.corpora as corpora\n",
    "from gensim.models.coherencemodel import CoherenceModel\n",
    "from gensim.models import LsiModel, TfidfModel\n",
    "from sklearn.feature_extraction.text import TfidfVectorizer\n",
    "from sklearn.feature_extraction.text import CountVectorizer, TfidfVectorizer\n",
    "from sklearn.model_selection import train_test_split\n",
    "from sklearn.linear_model import LogisticRegression, SGDClassifier\n",
    "from sklearn.metrics import accuracy_score, classification_report"
   ]
  },
  {
   "cell_type": "markdown",
   "id": "e8ec4c55",
   "metadata": {},
   "source": [
    "### POS Tagging"
   ]
  },
  {
   "cell_type": "code",
   "execution_count": 10,
   "id": "3d6aa40e",
   "metadata": {},
   "outputs": [],
   "source": [
    "nlp = spacy.load('en_core_web_sm')"
   ]
  },
  {
   "cell_type": "code",
   "execution_count": 11,
   "id": "216399dd",
   "metadata": {},
   "outputs": [],
   "source": [
    "# split data by fake and factual news\n",
    "fake_news = data[data['fake_or_factual'] == \"Fake News\"]\n",
    "fact_news = data[data['fake_or_factual'] == \"Factual News\"]"
   ]
  },
  {
   "cell_type": "code",
   "execution_count": 12,
   "id": "f197b3a8",
   "metadata": {},
   "outputs": [],
   "source": [
    "# create spacey documents - use pipe for dataframe\n",
    "fake_spaceydocs = list(nlp.pipe(fake_news['text']))\n",
    "fact_spaceydocs = list(nlp.pipe(fact_news['text'])) "
   ]
  },
  {
   "cell_type": "code",
   "execution_count": 13,
   "id": "c1a3c1b7",
   "metadata": {},
   "outputs": [],
   "source": [
    "# create function to extract tags for each document in our data\n",
    "def extract_token_tags(doc:spacy.tokens.doc.Doc):\n",
    "    return [(i.text, i.ent_type_, i.pos_) for i in doc]"
   ]
  },
  {
   "cell_type": "code",
   "execution_count": 14,
   "id": "88c519cc",
   "metadata": {},
   "outputs": [],
   "source": [
    "# tag fake dataset \n",
    "fake_tagsdf = []\n",
    "columns = [\"token\", \"ner_tag\", \"pos_tag\"]\n",
    "\n",
    "for ix, doc in enumerate(fake_spaceydocs):\n",
    "    tags = extract_token_tags(doc)\n",
    "    tags = pd.DataFrame(tags)\n",
    "    tags.columns = columns\n",
    "    fake_tagsdf.append(tags)\n",
    "        \n",
    "fake_tagsdf = pd.concat(fake_tagsdf)   \n",
    "\n",
    "# tag factual dataset \n",
    "fact_tagsdf = []\n",
    "\n",
    "for ix, doc in enumerate(fact_spaceydocs):\n",
    "    tags = extract_token_tags(doc)\n",
    "    tags = pd.DataFrame(tags)\n",
    "    tags.columns = columns\n",
    "    fact_tagsdf.append(tags)\n",
    "        \n",
    "fact_tagsdf = pd.concat(fact_tagsdf)   "
   ]
  },
  {
   "cell_type": "code",
   "execution_count": 17,
   "id": "776a2e9a",
   "metadata": {},
   "outputs": [
    {
     "data": {
      "text/html": [
       "<div>\n",
       "<style scoped>\n",
       "    .dataframe tbody tr th:only-of-type {\n",
       "        vertical-align: middle;\n",
       "    }\n",
       "\n",
       "    .dataframe tbody tr th {\n",
       "        vertical-align: top;\n",
       "    }\n",
       "\n",
       "    .dataframe thead th {\n",
       "        text-align: right;\n",
       "    }\n",
       "</style>\n",
       "<table border=\"1\" class=\"dataframe\">\n",
       "  <thead>\n",
       "    <tr style=\"text-align: right;\">\n",
       "      <th></th>\n",
       "      <th>token</th>\n",
       "      <th>ner_tag</th>\n",
       "      <th>pos_tag</th>\n",
       "    </tr>\n",
       "  </thead>\n",
       "  <tbody>\n",
       "    <tr>\n",
       "      <th>0</th>\n",
       "      <td>There</td>\n",
       "      <td></td>\n",
       "      <td>PRON</td>\n",
       "    </tr>\n",
       "    <tr>\n",
       "      <th>1</th>\n",
       "      <td>are</td>\n",
       "      <td></td>\n",
       "      <td>VERB</td>\n",
       "    </tr>\n",
       "    <tr>\n",
       "      <th>2</th>\n",
       "      <td>two</td>\n",
       "      <td>CARDINAL</td>\n",
       "      <td>NUM</td>\n",
       "    </tr>\n",
       "    <tr>\n",
       "      <th>3</th>\n",
       "      <td>small</td>\n",
       "      <td></td>\n",
       "      <td>ADJ</td>\n",
       "    </tr>\n",
       "    <tr>\n",
       "      <th>4</th>\n",
       "      <td>problems</td>\n",
       "      <td></td>\n",
       "      <td>NOUN</td>\n",
       "    </tr>\n",
       "  </tbody>\n",
       "</table>\n",
       "</div>"
      ],
      "text/plain": [
       "      token   ner_tag pos_tag\n",
       "0     There              PRON\n",
       "1       are              VERB\n",
       "2       two  CARDINAL     NUM\n",
       "3     small               ADJ\n",
       "4  problems              NOUN"
      ]
     },
     "execution_count": 17,
     "metadata": {},
     "output_type": "execute_result"
    }
   ],
   "source": [
    "fake_tagsdf.head()"
   ]
  },
  {
   "cell_type": "code",
   "execution_count": 18,
   "id": "5fdefc14",
   "metadata": {},
   "outputs": [
    {
     "data": {
      "text/html": [
       "<div>\n",
       "<style scoped>\n",
       "    .dataframe tbody tr th:only-of-type {\n",
       "        vertical-align: middle;\n",
       "    }\n",
       "\n",
       "    .dataframe tbody tr th {\n",
       "        vertical-align: top;\n",
       "    }\n",
       "\n",
       "    .dataframe thead th {\n",
       "        text-align: right;\n",
       "    }\n",
       "</style>\n",
       "<table border=\"1\" class=\"dataframe\">\n",
       "  <thead>\n",
       "    <tr style=\"text-align: right;\">\n",
       "      <th></th>\n",
       "      <th>token</th>\n",
       "      <th>pos_tag</th>\n",
       "      <th>counts</th>\n",
       "    </tr>\n",
       "  </thead>\n",
       "  <tbody>\n",
       "    <tr>\n",
       "      <th>29</th>\n",
       "      <td>,</td>\n",
       "      <td>PUNCT</td>\n",
       "      <td>1908</td>\n",
       "    </tr>\n",
       "    <tr>\n",
       "      <th>7451</th>\n",
       "      <td>the</td>\n",
       "      <td>DET</td>\n",
       "      <td>1834</td>\n",
       "    </tr>\n",
       "    <tr>\n",
       "      <th>41</th>\n",
       "      <td>.</td>\n",
       "      <td>PUNCT</td>\n",
       "      <td>1530</td>\n",
       "    </tr>\n",
       "    <tr>\n",
       "      <th>5766</th>\n",
       "      <td>of</td>\n",
       "      <td>ADP</td>\n",
       "      <td>922</td>\n",
       "    </tr>\n",
       "    <tr>\n",
       "      <th>2665</th>\n",
       "      <td>and</td>\n",
       "      <td>CCONJ</td>\n",
       "      <td>875</td>\n",
       "    </tr>\n",
       "    <tr>\n",
       "      <th>2449</th>\n",
       "      <td>a</td>\n",
       "      <td>DET</td>\n",
       "      <td>805</td>\n",
       "    </tr>\n",
       "    <tr>\n",
       "      <th>0</th>\n",
       "      <td></td>\n",
       "      <td>SPACE</td>\n",
       "      <td>795</td>\n",
       "    </tr>\n",
       "    <tr>\n",
       "      <th>7528</th>\n",
       "      <td>to</td>\n",
       "      <td>PART</td>\n",
       "      <td>767</td>\n",
       "    </tr>\n",
       "    <tr>\n",
       "      <th>4921</th>\n",
       "      <td>in</td>\n",
       "      <td>ADP</td>\n",
       "      <td>668</td>\n",
       "    </tr>\n",
       "    <tr>\n",
       "      <th>5099</th>\n",
       "      <td>is</td>\n",
       "      <td>AUX</td>\n",
       "      <td>419</td>\n",
       "    </tr>\n",
       "  </tbody>\n",
       "</table>\n",
       "</div>"
      ],
      "text/plain": [
       "     token pos_tag  counts\n",
       "29       ,   PUNCT    1908\n",
       "7451   the     DET    1834\n",
       "41       .   PUNCT    1530\n",
       "5766    of     ADP     922\n",
       "2665   and   CCONJ     875\n",
       "2449     a     DET     805\n",
       "0            SPACE     795\n",
       "7528    to    PART     767\n",
       "4921    in     ADP     668\n",
       "5099    is     AUX     419"
      ]
     },
     "execution_count": 18,
     "metadata": {},
     "output_type": "execute_result"
    }
   ],
   "source": [
    "# token frequency count (fake)\n",
    "pos_counts_fake = fake_tagsdf.groupby(['token','pos_tag']).size().reset_index(name='counts').sort_values(by='counts', ascending=False)\n",
    "pos_counts_fake.head(10)"
   ]
  },
  {
   "cell_type": "code",
   "execution_count": 19,
   "id": "32eb44e6",
   "metadata": {},
   "outputs": [
    {
     "data": {
      "text/html": [
       "<div>\n",
       "<style scoped>\n",
       "    .dataframe tbody tr th:only-of-type {\n",
       "        vertical-align: middle;\n",
       "    }\n",
       "\n",
       "    .dataframe tbody tr th {\n",
       "        vertical-align: top;\n",
       "    }\n",
       "\n",
       "    .dataframe thead th {\n",
       "        text-align: right;\n",
       "    }\n",
       "</style>\n",
       "<table border=\"1\" class=\"dataframe\">\n",
       "  <thead>\n",
       "    <tr style=\"text-align: right;\">\n",
       "      <th></th>\n",
       "      <th>token</th>\n",
       "      <th>pos_tag</th>\n",
       "      <th>counts</th>\n",
       "    </tr>\n",
       "  </thead>\n",
       "  <tbody>\n",
       "    <tr>\n",
       "      <th>6145</th>\n",
       "      <td>the</td>\n",
       "      <td>DET</td>\n",
       "      <td>1903</td>\n",
       "    </tr>\n",
       "    <tr>\n",
       "      <th>14</th>\n",
       "      <td>,</td>\n",
       "      <td>PUNCT</td>\n",
       "      <td>1698</td>\n",
       "    </tr>\n",
       "    <tr>\n",
       "      <th>21</th>\n",
       "      <td>.</td>\n",
       "      <td>PUNCT</td>\n",
       "      <td>1382</td>\n",
       "    </tr>\n",
       "    <tr>\n",
       "      <th>4716</th>\n",
       "      <td>of</td>\n",
       "      <td>ADP</td>\n",
       "      <td>884</td>\n",
       "    </tr>\n",
       "    <tr>\n",
       "      <th>1898</th>\n",
       "      <td>a</td>\n",
       "      <td>DET</td>\n",
       "      <td>789</td>\n",
       "    </tr>\n",
       "    <tr>\n",
       "      <th>2093</th>\n",
       "      <td>and</td>\n",
       "      <td>CCONJ</td>\n",
       "      <td>757</td>\n",
       "    </tr>\n",
       "    <tr>\n",
       "      <th>4005</th>\n",
       "      <td>in</td>\n",
       "      <td>ADP</td>\n",
       "      <td>671</td>\n",
       "    </tr>\n",
       "    <tr>\n",
       "      <th>6205</th>\n",
       "      <td>to</td>\n",
       "      <td>PART</td>\n",
       "      <td>660</td>\n",
       "    </tr>\n",
       "    <tr>\n",
       "      <th>4743</th>\n",
       "      <td>on</td>\n",
       "      <td>ADP</td>\n",
       "      <td>482</td>\n",
       "    </tr>\n",
       "    <tr>\n",
       "      <th>5567</th>\n",
       "      <td>said</td>\n",
       "      <td>VERB</td>\n",
       "      <td>451</td>\n",
       "    </tr>\n",
       "  </tbody>\n",
       "</table>\n",
       "</div>"
      ],
      "text/plain": [
       "     token pos_tag  counts\n",
       "6145   the     DET    1903\n",
       "14       ,   PUNCT    1698\n",
       "21       .   PUNCT    1382\n",
       "4716    of     ADP     884\n",
       "1898     a     DET     789\n",
       "2093   and   CCONJ     757\n",
       "4005    in     ADP     671\n",
       "6205    to    PART     660\n",
       "4743    on     ADP     482\n",
       "5567  said    VERB     451"
      ]
     },
     "execution_count": 19,
     "metadata": {},
     "output_type": "execute_result"
    }
   ],
   "source": [
    "# token frequency count (fact)\n",
    "pos_counts_fact = fact_tagsdf.groupby(['token','pos_tag']).size().reset_index(name='counts').sort_values(by='counts', ascending=False)\n",
    "pos_counts_fact.head(10)"
   ]
  },
  {
   "cell_type": "code",
   "execution_count": 20,
   "id": "7593cb8c",
   "metadata": {},
   "outputs": [
    {
     "data": {
      "text/plain": [
       "pos_tag\n",
       "NOUN     2586\n",
       "VERB     1817\n",
       "PROPN    1672\n",
       "ADJ       882\n",
       "ADV       413\n",
       "NUM       221\n",
       "PRON       96\n",
       "ADP        89\n",
       "AUX        62\n",
       "SCONJ      51\n",
       "Name: token, dtype: int64"
      ]
     },
     "execution_count": 20,
     "metadata": {},
     "output_type": "execute_result"
    }
   ],
   "source": [
    "# frequencies of pos tags\n",
    "pos_counts_fake.groupby(['pos_tag'])['token'].count().sort_values(ascending=False).head(10)"
   ]
  },
  {
   "cell_type": "code",
   "execution_count": 21,
   "id": "6eef0fad",
   "metadata": {},
   "outputs": [
    {
     "data": {
      "text/plain": [
       "pos_tag\n",
       "NOUN     2179\n",
       "VERB     1539\n",
       "PROPN    1379\n",
       "ADJ       747\n",
       "ADV       263\n",
       "NUM       205\n",
       "PRON       79\n",
       "ADP        70\n",
       "AUX        43\n",
       "SCONJ      42\n",
       "Name: token, dtype: int64"
      ]
     },
     "execution_count": 21,
     "metadata": {},
     "output_type": "execute_result"
    }
   ],
   "source": [
    "pos_counts_fact.groupby(['pos_tag'])['token'].count().sort_values(ascending=False).head(10)"
   ]
  },
  {
   "cell_type": "code",
   "execution_count": 22,
   "id": "443232cc",
   "metadata": {},
   "outputs": [
    {
     "data": {
      "text/html": [
       "<div>\n",
       "<style scoped>\n",
       "    .dataframe tbody tr th:only-of-type {\n",
       "        vertical-align: middle;\n",
       "    }\n",
       "\n",
       "    .dataframe tbody tr th {\n",
       "        vertical-align: top;\n",
       "    }\n",
       "\n",
       "    .dataframe thead th {\n",
       "        text-align: right;\n",
       "    }\n",
       "</style>\n",
       "<table border=\"1\" class=\"dataframe\">\n",
       "  <thead>\n",
       "    <tr style=\"text-align: right;\">\n",
       "      <th></th>\n",
       "      <th>token</th>\n",
       "      <th>pos_tag</th>\n",
       "      <th>counts</th>\n",
       "    </tr>\n",
       "  </thead>\n",
       "  <tbody>\n",
       "    <tr>\n",
       "      <th>5981</th>\n",
       "      <td>people</td>\n",
       "      <td>NOUN</td>\n",
       "      <td>77</td>\n",
       "    </tr>\n",
       "    <tr>\n",
       "      <th>7349</th>\n",
       "      <td>t</td>\n",
       "      <td>NOUN</td>\n",
       "      <td>65</td>\n",
       "    </tr>\n",
       "    <tr>\n",
       "      <th>6216</th>\n",
       "      <td>president</td>\n",
       "      <td>NOUN</td>\n",
       "      <td>58</td>\n",
       "    </tr>\n",
       "    <tr>\n",
       "      <th>7960</th>\n",
       "      <td>women</td>\n",
       "      <td>NOUN</td>\n",
       "      <td>55</td>\n",
       "    </tr>\n",
       "    <tr>\n",
       "      <th>7516</th>\n",
       "      <td>time</td>\n",
       "      <td>NOUN</td>\n",
       "      <td>52</td>\n",
       "    </tr>\n",
       "    <tr>\n",
       "      <th>3138</th>\n",
       "      <td>campaign</td>\n",
       "      <td>NOUN</td>\n",
       "      <td>44</td>\n",
       "    </tr>\n",
       "    <tr>\n",
       "      <th>8011</th>\n",
       "      <td>year</td>\n",
       "      <td>NOUN</td>\n",
       "      <td>44</td>\n",
       "    </tr>\n",
       "    <tr>\n",
       "      <th>4581</th>\n",
       "      <td>government</td>\n",
       "      <td>NOUN</td>\n",
       "      <td>41</td>\n",
       "    </tr>\n",
       "    <tr>\n",
       "      <th>5213</th>\n",
       "      <td>law</td>\n",
       "      <td>NOUN</td>\n",
       "      <td>40</td>\n",
       "    </tr>\n",
       "    <tr>\n",
       "      <th>8013</th>\n",
       "      <td>years</td>\n",
       "      <td>NOUN</td>\n",
       "      <td>40</td>\n",
       "    </tr>\n",
       "    <tr>\n",
       "      <th>7165</th>\n",
       "      <td>state</td>\n",
       "      <td>NOUN</td>\n",
       "      <td>38</td>\n",
       "    </tr>\n",
       "    <tr>\n",
       "      <th>4012</th>\n",
       "      <td>election</td>\n",
       "      <td>NOUN</td>\n",
       "      <td>37</td>\n",
       "    </tr>\n",
       "    <tr>\n",
       "      <th>3643</th>\n",
       "      <td>day</td>\n",
       "      <td>NOUN</td>\n",
       "      <td>35</td>\n",
       "    </tr>\n",
       "    <tr>\n",
       "      <th>5482</th>\n",
       "      <td>media</td>\n",
       "      <td>NOUN</td>\n",
       "      <td>35</td>\n",
       "    </tr>\n",
       "    <tr>\n",
       "      <th>3538</th>\n",
       "      <td>country</td>\n",
       "      <td>NOUN</td>\n",
       "      <td>33</td>\n",
       "    </tr>\n",
       "  </tbody>\n",
       "</table>\n",
       "</div>"
      ],
      "text/plain": [
       "           token pos_tag  counts\n",
       "5981      people    NOUN      77\n",
       "7349           t    NOUN      65\n",
       "6216   president    NOUN      58\n",
       "7960       women    NOUN      55\n",
       "7516        time    NOUN      52\n",
       "3138    campaign    NOUN      44\n",
       "8011        year    NOUN      44\n",
       "4581  government    NOUN      41\n",
       "5213         law    NOUN      40\n",
       "8013       years    NOUN      40\n",
       "7165       state    NOUN      38\n",
       "4012    election    NOUN      37\n",
       "3643         day    NOUN      35\n",
       "5482       media    NOUN      35\n",
       "3538     country    NOUN      33"
      ]
     },
     "execution_count": 22,
     "metadata": {},
     "output_type": "execute_result"
    }
   ],
   "source": [
    "# dive into diferences in nouns\n",
    "pos_counts_fake[pos_counts_fake.pos_tag == \"NOUN\"][0:15]"
   ]
  },
  {
   "cell_type": "code",
   "execution_count": 23,
   "id": "a1e42f89",
   "metadata": {},
   "outputs": [
    {
     "data": {
      "text/html": [
       "<div>\n",
       "<style scoped>\n",
       "    .dataframe tbody tr th:only-of-type {\n",
       "        vertical-align: middle;\n",
       "    }\n",
       "\n",
       "    .dataframe tbody tr th {\n",
       "        vertical-align: top;\n",
       "    }\n",
       "\n",
       "    .dataframe thead th {\n",
       "        text-align: right;\n",
       "    }\n",
       "</style>\n",
       "<table border=\"1\" class=\"dataframe\">\n",
       "  <thead>\n",
       "    <tr style=\"text-align: right;\">\n",
       "      <th></th>\n",
       "      <th>token</th>\n",
       "      <th>pos_tag</th>\n",
       "      <th>counts</th>\n",
       "    </tr>\n",
       "  </thead>\n",
       "  <tbody>\n",
       "    <tr>\n",
       "      <th>3738</th>\n",
       "      <td>government</td>\n",
       "      <td>NOUN</td>\n",
       "      <td>71</td>\n",
       "    </tr>\n",
       "    <tr>\n",
       "      <th>6618</th>\n",
       "      <td>year</td>\n",
       "      <td>NOUN</td>\n",
       "      <td>64</td>\n",
       "    </tr>\n",
       "    <tr>\n",
       "      <th>5901</th>\n",
       "      <td>state</td>\n",
       "      <td>NOUN</td>\n",
       "      <td>57</td>\n",
       "    </tr>\n",
       "    <tr>\n",
       "      <th>2360</th>\n",
       "      <td>bill</td>\n",
       "      <td>NOUN</td>\n",
       "      <td>55</td>\n",
       "    </tr>\n",
       "    <tr>\n",
       "      <th>1975</th>\n",
       "      <td>administration</td>\n",
       "      <td>NOUN</td>\n",
       "      <td>51</td>\n",
       "    </tr>\n",
       "    <tr>\n",
       "      <th>5066</th>\n",
       "      <td>president</td>\n",
       "      <td>NOUN</td>\n",
       "      <td>49</td>\n",
       "    </tr>\n",
       "    <tr>\n",
       "      <th>3277</th>\n",
       "      <td>election</td>\n",
       "      <td>NOUN</td>\n",
       "      <td>48</td>\n",
       "    </tr>\n",
       "    <tr>\n",
       "      <th>4919</th>\n",
       "      <td>people</td>\n",
       "      <td>NOUN</td>\n",
       "      <td>45</td>\n",
       "    </tr>\n",
       "    <tr>\n",
       "      <th>4786</th>\n",
       "      <td>order</td>\n",
       "      <td>NOUN</td>\n",
       "      <td>45</td>\n",
       "    </tr>\n",
       "    <tr>\n",
       "      <th>4259</th>\n",
       "      <td>law</td>\n",
       "      <td>NOUN</td>\n",
       "      <td>42</td>\n",
       "    </tr>\n",
       "    <tr>\n",
       "      <th>2497</th>\n",
       "      <td>campaign</td>\n",
       "      <td>NOUN</td>\n",
       "      <td>42</td>\n",
       "    </tr>\n",
       "    <tr>\n",
       "      <th>6095</th>\n",
       "      <td>tax</td>\n",
       "      <td>NOUN</td>\n",
       "      <td>39</td>\n",
       "    </tr>\n",
       "    <tr>\n",
       "      <th>5396</th>\n",
       "      <td>reporters</td>\n",
       "      <td>NOUN</td>\n",
       "      <td>38</td>\n",
       "    </tr>\n",
       "    <tr>\n",
       "      <th>5905</th>\n",
       "      <td>statement</td>\n",
       "      <td>NOUN</td>\n",
       "      <td>37</td>\n",
       "    </tr>\n",
       "    <tr>\n",
       "      <th>2873</th>\n",
       "      <td>court</td>\n",
       "      <td>NOUN</td>\n",
       "      <td>37</td>\n",
       "    </tr>\n",
       "  </tbody>\n",
       "</table>\n",
       "</div>"
      ],
      "text/plain": [
       "               token pos_tag  counts\n",
       "3738      government    NOUN      71\n",
       "6618            year    NOUN      64\n",
       "5901           state    NOUN      57\n",
       "2360            bill    NOUN      55\n",
       "1975  administration    NOUN      51\n",
       "5066       president    NOUN      49\n",
       "3277        election    NOUN      48\n",
       "4919          people    NOUN      45\n",
       "4786           order    NOUN      45\n",
       "4259             law    NOUN      42\n",
       "2497        campaign    NOUN      42\n",
       "6095             tax    NOUN      39\n",
       "5396       reporters    NOUN      38\n",
       "5905       statement    NOUN      37\n",
       "2873           court    NOUN      37"
      ]
     },
     "execution_count": 23,
     "metadata": {},
     "output_type": "execute_result"
    }
   ],
   "source": [
    "pos_counts_fact[pos_counts_fact.pos_tag == \"NOUN\"][0:15]"
   ]
  },
  {
   "cell_type": "markdown",
   "id": "0fa1f4e4",
   "metadata": {},
   "source": [
    "### Named Entities"
   ]
  },
  {
   "cell_type": "code",
   "execution_count": 24,
   "id": "5600d75e",
   "metadata": {},
   "outputs": [],
   "source": [
    "# top entities in fake news\n",
    "top_entities_fake = fake_tagsdf[fake_tagsdf['ner_tag'] != \"\"] \\\n",
    "                    .groupby(['token','ner_tag']).size().reset_index(name='counts') \\\n",
    "                    .sort_values(by='counts', ascending=False)"
   ]
  },
  {
   "cell_type": "code",
   "execution_count": 25,
   "id": "d86bc00e",
   "metadata": {},
   "outputs": [],
   "source": [
    "# top entities in fact news\n",
    "top_entities_fact = fact_tagsdf[fact_tagsdf['ner_tag'] != \"\"] \\\n",
    "                    .groupby(['token','ner_tag']).size().reset_index(name='counts') \\\n",
    "                    .sort_values(by='counts', ascending=False)"
   ]
  },
  {
   "cell_type": "code",
   "execution_count": 26,
   "id": "d7512fc9",
   "metadata": {},
   "outputs": [],
   "source": [
    "# create custom palette to ensure plots are consistent\n",
    "ner_palette = {\n",
    "    'ORG': sns.color_palette(\"Set2\").as_hex()[0],\n",
    "    'GPE': sns.color_palette(\"Set2\").as_hex()[1],\n",
    "    'NORP': sns.color_palette(\"Set2\").as_hex()[2],\n",
    "    'PERSON': sns.color_palette(\"Set2\").as_hex()[3],\n",
    "    'DATE': sns.color_palette(\"Set2\").as_hex()[4],\n",
    "    'CARDINAL': sns.color_palette(\"Set2\").as_hex()[5],\n",
    "    'PERCENT': sns.color_palette(\"Set2\").as_hex()[6]\n",
    "}"
   ]
  },
  {
   "cell_type": "code",
   "execution_count": 27,
   "id": "a32d5fd1",
   "metadata": {},
   "outputs": [
    {
     "data": {
      "text/plain": [
       "[Text(0.5, 1.0, 'Most Common Entities in Fake News')]"
      ]
     },
     "execution_count": 27,
     "metadata": {},
     "output_type": "execute_result"
    },
    {
     "data": {
      "image/png": "[encoded data removed]",
      "text/plain": [
       "<Figure size 1200x800 with 1 Axes>"
      ]
     },
     "metadata": {},
     "output_type": "display_data"
    }
   ],
   "source": [
    "sns.barplot(\n",
    "    x = 'counts',\n",
    "    y = 'token',\n",
    "    hue = 'ner_tag',\n",
    "    palette = ner_palette,\n",
    "    data = top_entities_fake[0:10],\n",
    "    orient = 'h',\n",
    "    dodge=False\n",
    ").set(title='Most Common Entities in Fake News')"
   ]
  },
  {
   "cell_type": "code",
   "execution_count": 28,
   "id": "2972250e",
   "metadata": {},
   "outputs": [
    {
     "data": {
      "text/plain": [
       "[Text(0.5, 1.0, 'Most Common Entities in Factual News')]"
      ]
     },
     "execution_count": 28,
     "metadata": {},
     "output_type": "execute_result"
    },
    {
     "data": {
      "image/png": "[encoded data removed]",
      "text/plain": [
       "<Figure size 1200x800 with 1 Axes>"
      ]
     },
     "metadata": {},
     "output_type": "display_data"
    }
   ],
   "source": [
    "sns.barplot(\n",
    "    x = 'counts',\n",
    "    y = 'token',\n",
    "    hue = 'ner_tag',\n",
    "    palette = ner_palette,\n",
    "    data = top_entities_fact[0:10],\n",
    "    orient = 'h',\n",
    "    dodge=False\n",
    ").set(title='Most Common Entities in Factual News')"
   ]
  },
  {
   "cell_type": "markdown",
   "id": "9ae815d2",
   "metadata": {},
   "source": [
    "### Text Pre-processing"
   ]
  },
  {
   "cell_type": "code",
   "execution_count": 29,
   "id": "2acccb35",
   "metadata": {},
   "outputs": [],
   "source": [
    "# a lot of the factual news has a location tag at the beginning of the article, let's use regex to remove this\n",
    "data['text_clean'] = data.apply(lambda x: re.sub(r\"^[^-]*-\\s*\", \"\", x['text']), axis=1)\n",
    "\n",
    "# lowercase \n",
    "data['text_clean'] = data['text_clean'].str.lower()\n",
    "\n",
    "# remove punctuation\n",
    "data['text_clean'] = data.apply(lambda x: re.sub(r\"([^\\w\\s])\", \"\", x['text_clean']), axis=1)"
   ]
  },
  {
   "cell_type": "code",
   "execution_count": 30,
   "id": "8c026612",
   "metadata": {},
   "outputs": [
    {
     "name": "stdout",
     "output_type": "stream",
     "text": [
      "['a', 'about', 'above', 'after', 'again', 'against', 'ain', 'all', 'am', 'an', 'and', 'any', 'are', 'aren', \"aren't\", 'as', 'at', 'be', 'because', 'been', 'before', 'being', 'below', 'between', 'both', 'but', 'by', 'can', 'couldn', \"couldn't\", 'd', 'did', 'didn', \"didn't\", 'do', 'does', 'doesn', \"doesn't\", 'doing', 'don', \"don't\", 'down', 'during', 'each', 'few', 'for', 'from', 'further', 'had', 'hadn', \"hadn't\", 'has', 'hasn', \"hasn't\", 'have', 'haven', \"haven't\", 'having', 'he', \"he'd\", \"he'll\", 'her', 'here', 'hers', 'herself', \"he's\", 'him', 'himself', 'his', 'how', 'i', \"i'd\", 'if', \"i'll\", \"i'm\", 'in', 'into', 'is', 'isn', \"isn't\", 'it', \"it'd\", \"it'll\", \"it's\", 'its', 'itself', \"i've\", 'just', 'll', 'm', 'ma', 'me', 'mightn', \"mightn't\", 'more', 'most', 'mustn', \"mustn't\", 'my', 'myself', 'needn', \"needn't\", 'no', 'nor', 'not', 'now', 'o', 'of', 'off', 'on', 'once', 'only', 'or', 'other', 'our', 'ours', 'ourselves', 'out', 'over', 'own', 're', 's', 'same', 'shan', \"shan't\", 'she', \"she'd\", \"she'll\", \"she's\", 'should', 'shouldn', \"shouldn't\", \"should've\", 'so', 'some', 'such', 't', 'than', 'that', \"that'll\", 'the', 'their', 'theirs', 'them', 'themselves', 'then', 'there', 'these', 'they', \"they'd\", \"they'll\", \"they're\", \"they've\", 'this', 'those', 'through', 'to', 'too', 'under', 'until', 'up', 've', 'very', 'was', 'wasn', \"wasn't\", 'we', \"we'd\", \"we'll\", \"we're\", 'were', 'weren', \"weren't\", \"we've\", 'what', 'when', 'where', 'which', 'while', 'who', 'whom', 'why', 'will', 'with', 'won', \"won't\", 'wouldn', \"wouldn't\", 'y', 'you', \"you'd\", \"you'll\", 'your', \"you're\", 'yours', 'yourself', 'yourselves', \"you've\"]\n"
     ]
    }
   ],
   "source": [
    "# stop words\n",
    "en_stopwords = stopwords.words('english')\n",
    "print(en_stopwords) # check this against our most frequent n-grams"
   ]
  },
  {
   "cell_type": "code",
   "execution_count": 31,
   "id": "a36cda6b",
   "metadata": {},
   "outputs": [
    {
     "data": {
      "text/html": [
       "<div>\n",
       "<style scoped>\n",
       "    .dataframe tbody tr th:only-of-type {\n",
       "        vertical-align: middle;\n",
       "    }\n",
       "\n",
       "    .dataframe tbody tr th {\n",
       "        vertical-align: top;\n",
       "    }\n",
       "\n",
       "    .dataframe thead th {\n",
       "        text-align: right;\n",
       "    }\n",
       "</style>\n",
       "<table border=\"1\" class=\"dataframe\">\n",
       "  <thead>\n",
       "    <tr style=\"text-align: right;\">\n",
       "      <th></th>\n",
       "      <th>title</th>\n",
       "      <th>text</th>\n",
       "      <th>date</th>\n",
       "      <th>fake_or_factual</th>\n",
       "      <th>text_clean</th>\n",
       "    </tr>\n",
       "  </thead>\n",
       "  <tbody>\n",
       "    <tr>\n",
       "      <th>0</th>\n",
       "      <td>HOLLYWEIRD LIB SUSAN SARANDON Compares Muslim ...</td>\n",
       "      <td>There are two small problems with your analogy...</td>\n",
       "      <td>Dec 30, 2015</td>\n",
       "      <td>Fake News</td>\n",
       "      <td>[yearold, oscarwinning, actress, described, me...</td>\n",
       "    </tr>\n",
       "    <tr>\n",
       "      <th>1</th>\n",
       "      <td>Elijah Cummings Called Trump Out To His Face ...</td>\n",
       "      <td>Buried in Trump s bonkers interview with New Y...</td>\n",
       "      <td>April 6, 2017</td>\n",
       "      <td>Fake News</td>\n",
       "      <td>[buried, trump, bonkers, interview, new, york,...</td>\n",
       "    </tr>\n",
       "    <tr>\n",
       "      <th>2</th>\n",
       "      <td>Hillary Clinton Says Half Her Cabinet Will Be...</td>\n",
       "      <td>Women make up over 50 percent of this country,...</td>\n",
       "      <td>April 26, 2016</td>\n",
       "      <td>Fake News</td>\n",
       "      <td>[woman, make, 50, percent, country, grossly, u...</td>\n",
       "    </tr>\n",
       "    <tr>\n",
       "      <th>3</th>\n",
       "      <td>Russian bombing of U.S.-backed forces being di...</td>\n",
       "      <td>WASHINGTON (Reuters) - U.S. Defense Secretary ...</td>\n",
       "      <td>September 18, 2017</td>\n",
       "      <td>Factual News</td>\n",
       "      <td>[u, defense, secretary, jim, mattis, said, mon...</td>\n",
       "    </tr>\n",
       "    <tr>\n",
       "      <th>4</th>\n",
       "      <td>Britain says window to restore Northern Irelan...</td>\n",
       "      <td>BELFAST (Reuters) - Northern Ireland s politic...</td>\n",
       "      <td>September 4, 2017</td>\n",
       "      <td>Factual News</td>\n",
       "      <td>[northern, ireland, political, party, rapidly,...</td>\n",
       "    </tr>\n",
       "  </tbody>\n",
       "</table>\n",
       "</div>"
      ],
      "text/plain": [
       "                                               title  \\\n",
       "0  HOLLYWEIRD LIB SUSAN SARANDON Compares Muslim ...   \n",
       "1   Elijah Cummings Called Trump Out To His Face ...   \n",
       "2   Hillary Clinton Says Half Her Cabinet Will Be...   \n",
       "3  Russian bombing of U.S.-backed forces being di...   \n",
       "4  Britain says window to restore Northern Irelan...   \n",
       "\n",
       "                                                text                 date  \\\n",
       "0  There are two small problems with your analogy...         Dec 30, 2015   \n",
       "1  Buried in Trump s bonkers interview with New Y...        April 6, 2017   \n",
       "2  Women make up over 50 percent of this country,...       April 26, 2016   \n",
       "3  WASHINGTON (Reuters) - U.S. Defense Secretary ...  September 18, 2017    \n",
       "4  BELFAST (Reuters) - Northern Ireland s politic...   September 4, 2017    \n",
       "\n",
       "  fake_or_factual                                         text_clean  \n",
       "0       Fake News  [yearold, oscarwinning, actress, described, me...  \n",
       "1       Fake News  [buried, trump, bonkers, interview, new, york,...  \n",
       "2       Fake News  [woman, make, 50, percent, country, grossly, u...  \n",
       "3    Factual News  [u, defense, secretary, jim, mattis, said, mon...  \n",
       "4    Factual News  [northern, ireland, political, party, rapidly,...  "
      ]
     },
     "execution_count": 31,
     "metadata": {},
     "output_type": "execute_result"
    }
   ],
   "source": [
    "data['text_clean'] = data['text_clean'].apply(lambda x: ' '.join([word for word in x.split() if word not in (en_stopwords)]))\n",
    "\n",
    "# tokenize \n",
    "data['text_clean'] = data.apply(lambda x: word_tokenize(x['text_clean']), axis=1)\n",
    "\n",
    "# lemmatize\n",
    "lemmatizer = WordNetLemmatizer()\n",
    "data[\"text_clean\"] = data[\"text_clean\"].apply(lambda tokens: [lemmatizer.lemmatize(token) for token in tokens])\n",
    "\n",
    "\n",
    "data.head()"
   ]
  },
  {
   "cell_type": "code",
   "execution_count": 32,
   "id": "b688df0d",
   "metadata": {},
   "outputs": [
    {
     "name": "stdout",
     "output_type": "stream",
     "text": [
      "           index  count\n",
      "0        (said,)    560\n",
      "1       (trump,)    520\n",
      "2           (u,)    255\n",
      "3       (state,)    250\n",
      "4   (president,)    226\n",
      "5       (would,)    210\n",
      "6         (one,)    141\n",
      "7        (year,)    128\n",
      "8  (republican,)    128\n",
      "9        (also,)    124\n"
     ]
    }
   ],
   "source": [
    "# most common unigrams after preprocessing\n",
    "tokens_clean = sum(data['text_clean'], [])\n",
    "unigrams = (pd.Series(nltk.ngrams(tokens_clean, 1)).value_counts()).reset_index()[:10]\n",
    "print(unigrams)"
   ]
  },
  {
   "cell_type": "code",
   "execution_count": 33,
   "id": "cebe3e1d",
   "metadata": {},
   "outputs": [
    {
     "name": "stderr",
     "output_type": "stream",
     "text": [
      "C:\\Users\\Hossein\\AppData\\Local\\Temp\\ipykernel_32056\\2557862851.py:3: UserWarning: \n",
      "The palette list has fewer values (1) than needed (10) and will cycle, which may produce an uninterpretable plot.\n",
      "  sns.barplot(x = \"count\",\n"
     ]
    },
    {
     "data": {
      "text/plain": [
       "[Text(0.5, 1.0, 'Most Common Unigrams After Preprocessing')]"
      ]
     },
     "execution_count": 33,
     "metadata": {},
     "output_type": "execute_result"
    },
    {
     "data": {
      "image/png": "[encoded data removed]",
      "text/plain": [
       "<Figure size 1200x800 with 1 Axes>"
      ]
     },
     "metadata": {},
     "output_type": "display_data"
    }
   ],
   "source": [
    "\n",
    "unigrams['token'] = unigrams['index'].apply(lambda x: x[0]) # extract the token from the tuple so we can plot it\n",
    "\n",
    "sns.barplot(x = \"count\", \n",
    "            y = \"token\", \n",
    "            data=unigrams,\n",
    "            orient = 'h',\n",
    "            palette=[default_plot_colour],\n",
    "            hue = \"token\", legend = False).set(title='Most Common Unigrams After Preprocessing')"
   ]
  },
  {
   "cell_type": "code",
   "execution_count": 34,
   "id": "73a86824",
   "metadata": {},
   "outputs": [
    {
     "name": "stdout",
     "output_type": "stream",
     "text": [
      "(donald, trump)        92\n",
      "(united, state)        80\n",
      "(white, house)         72\n",
      "(president, donald)    42\n",
      "(hillary, clinton)     31\n",
      "(new, york)            31\n",
      "(image, via)           29\n",
      "(supreme, court)       29\n",
      "(official, said)       26\n",
      "(food, stamp)          24\n",
      "Name: count, dtype: int64\n"
     ]
    }
   ],
   "source": [
    "# most common bigrams after preprocessing\n",
    "bigrams = (pd.Series(nltk.ngrams(tokens_clean, 2)).value_counts()) \n",
    "print(bigrams[:10])"
   ]
  },
  {
   "cell_type": "markdown",
   "id": "0a19d86f",
   "metadata": {},
   "source": [
    "### Sentiment Analysis"
   ]
  },
  {
   "cell_type": "code",
   "execution_count": 35,
   "id": "22bb62d4",
   "metadata": {},
   "outputs": [],
   "source": [
    "# use vader so we also get a neutral sentiment count\n",
    "vader_sentiment = SentimentIntensityAnalyzer()"
   ]
  },
  {
   "cell_type": "code",
   "execution_count": 36,
   "id": "6d204894",
   "metadata": {},
   "outputs": [],
   "source": [
    "data['vader_sentiment_score'] = data['text'].apply(lambda review: vader_sentiment.polarity_scores(review)['compound'])"
   ]
  },
  {
   "cell_type": "code",
   "execution_count": 37,
   "id": "d4eb2783",
   "metadata": {},
   "outputs": [],
   "source": [
    "# create labels\n",
    "bins = [-1, -0.1, 0.1, 1]\n",
    "names = ['negative', 'neutral', 'positive']\n",
    "\n",
    "data['vader_sentiment_label'] = pd.cut(data['vader_sentiment_score'], bins, labels=names)"
   ]
  },
  {
   "cell_type": "code",
   "execution_count": 38,
   "id": "1c758f93",
   "metadata": {},
   "outputs": [
    {
     "data": {
      "image/png": "[encoded data removed]",
      "text/plain": [
       "<Figure size 1200x800 with 1 Axes>"
      ]
     },
     "metadata": {},
     "output_type": "display_data"
    }
   ],
   "source": [
    "data['vader_sentiment_label'].value_counts().plot.bar(color=default_plot_colour);"
   ]
  },
  {
   "cell_type": "code",
   "execution_count": 39,
   "id": "8b4e34ae",
   "metadata": {},
   "outputs": [
    {
     "name": "stderr",
     "output_type": "stream",
     "text": [
      "C:\\Users\\Hossein\\AppData\\Local\\Temp\\ipykernel_32056\\4088581074.py:1: UserWarning: The palette list has more values (6) than needed (3), which may not be intended.\n",
      "  sns.countplot(\n"
     ]
    },
    {
     "data": {
      "text/plain": [
       "[Text(0.5, 1.0, 'Sentiment by News Type')]"
      ]
     },
     "execution_count": 39,
     "metadata": {},
     "output_type": "execute_result"
    },
    {
     "data": {
      "image/png": "[encoded data removed]",
      "text/plain": [
       "<Figure size 1200x800 with 1 Axes>"
      ]
     },
     "metadata": {},
     "output_type": "display_data"
    }
   ],
   "source": [
    "sns.countplot(\n",
    "    x = 'fake_or_factual',\n",
    "    hue = 'vader_sentiment_label',\n",
    "    palette = sns.color_palette(\"hls\"),\n",
    "    data = data\n",
    ").set(title='Sentiment by News Type')"
   ]
  },
  {
   "cell_type": "markdown",
   "id": "5a7f3f8c",
   "metadata": {},
   "source": [
    "### LDA"
   ]
  },
  {
   "cell_type": "code",
   "execution_count": 40,
   "id": "375350aa",
   "metadata": {},
   "outputs": [],
   "source": [
    "# fake news data vectorization\n",
    "fake_news_text = data[data['fake_or_factual'] == \"Fake News\"]['text_clean'].reset_index(drop=True)\n",
    "dictionary_fake = corpora.Dictionary(fake_news_text)\n",
    "doc_term_fake = [dictionary_fake.doc2bow(text) for text in fake_news_text]"
   ]
  },
  {
   "cell_type": "code",
   "execution_count": 41,
   "id": "5eb842ab",
   "metadata": {},
   "outputs": [
    {
     "data": {
      "image/png": "[encoded data removed]",
      "text/plain": [
       "<Figure size 1200x800 with 1 Axes>"
      ]
     },
     "metadata": {},
     "output_type": "display_data"
    }
   ],
   "source": [
    "# generate coherence scores to determine an optimum number of topics\n",
    "coherence_values = []\n",
    "model_list = []\n",
    "\n",
    "min_topics = 2\n",
    "max_topics = 11\n",
    "\n",
    "for num_topics_i in range(min_topics, max_topics+1):\n",
    "    model = gensim.models.LdaModel(doc_term_fake, num_topics=num_topics_i, id2word = dictionary_fake)\n",
    "    model_list.append(model)\n",
    "    coherence_model = CoherenceModel(model=model, texts=fake_news_text, dictionary=dictionary_fake, coherence='c_v')\n",
    "    coherence_values.append(coherence_model.get_coherence())\n",
    "    \n",
    "plt.plot(range(min_topics, max_topics+1), coherence_values)\n",
    "plt.xlabel(\"Number of Topics\")\n",
    "plt.ylabel(\"Coherence score\")\n",
    "plt.legend((\"coherence_values\"), loc='best')\n",
    "plt.show();"
   ]
  },
  {
   "cell_type": "code",
   "execution_count": 42,
   "id": "634f6b81",
   "metadata": {},
   "outputs": [
    {
     "data": {
      "text/plain": [
       "[(0,\n",
       "  '0.010*\"trump\" + 0.007*\"clinton\" + 0.005*\"woman\" + 0.005*\"said\" + 0.004*\"would\" + 0.004*\"state\" + 0.003*\"one\" + 0.003*\"know\" + 0.003*\"u\" + 0.003*\"president\"'),\n",
       " (1,\n",
       "  '0.016*\"trump\" + 0.004*\"said\" + 0.004*\"also\" + 0.004*\"people\" + 0.004*\"image\" + 0.003*\"president\" + 0.003*\"woman\" + 0.003*\"like\" + 0.003*\"republican\" + 0.003*\"one\"'),\n",
       " (2,\n",
       "  '0.010*\"trump\" + 0.007*\"said\" + 0.005*\"one\" + 0.005*\"state\" + 0.004*\"u\" + 0.004*\"president\" + 0.003*\"time\" + 0.003*\"clinton\" + 0.003*\"would\" + 0.003*\"year\"'),\n",
       " (3,\n",
       "  '0.009*\"trump\" + 0.004*\"time\" + 0.004*\"state\" + 0.004*\"said\" + 0.003*\"republican\" + 0.003*\"would\" + 0.003*\"vote\" + 0.002*\"woman\" + 0.002*\"school\" + 0.002*\"law\"'),\n",
       " (4,\n",
       "  '0.014*\"trump\" + 0.006*\"president\" + 0.004*\"would\" + 0.004*\"state\" + 0.004*\"said\" + 0.004*\"time\" + 0.004*\"republican\" + 0.004*\"u\" + 0.003*\"one\" + 0.003*\"people\"'),\n",
       " (5,\n",
       "  '0.006*\"clinton\" + 0.005*\"said\" + 0.004*\"syria\" + 0.004*\"president\" + 0.003*\"would\" + 0.003*\"u\" + 0.003*\"mccain\" + 0.003*\"state\" + 0.003*\"trump\" + 0.003*\"republican\"')]"
      ]
     },
     "execution_count": 42,
     "metadata": {},
     "output_type": "execute_result"
    }
   ],
   "source": [
    "# create lda model\n",
    "num_topics_fake = 6 \n",
    "\n",
    "lda_model_fake = gensim.models.LdaModel(corpus=doc_term_fake,\n",
    "                                       id2word=dictionary_fake,\n",
    "                                       num_topics=num_topics_fake)\n",
    "\n",
    "lda_model_fake.print_topics(num_topics=num_topics_fake, num_words=10)"
   ]
  },
  {
   "cell_type": "markdown",
   "id": "a7b4ef78",
   "metadata": {},
   "source": [
    "### TF-IDF & LSA\n",
    "\n",
    "our topics contain a lot of very similar words, let's try using latent semantic anaysis with tf-idf vectorization"
   ]
  },
  {
   "cell_type": "code",
   "execution_count": 43,
   "id": "658ca0b6",
   "metadata": {},
   "outputs": [],
   "source": [
    "def tfidf_corpus(doc_term_matrix):\n",
    "    # create a corpus using tfidf vecotization\n",
    "    tfidf = TfidfModel(corpus=doc_term_matrix, normalize=True)\n",
    "    corpus_tfidf = tfidf[doc_term_matrix]\n",
    "    return corpus_tfidf"
   ]
  },
  {
   "cell_type": "code",
   "execution_count": 44,
   "id": "89bee5c8",
   "metadata": {},
   "outputs": [],
   "source": [
    "def get_coherence_scores(corpus, dictionary, text, min_topics, max_topics):\n",
    "    # generate coherence scores to determine an optimum number of topics\n",
    "    coherence_values = []\n",
    "    model_list = []\n",
    "    for num_topics_i in range(min_topics, max_topics+1):\n",
    "        model = LsiModel(corpus, num_topics=num_topics_i, id2word = dictionary, random_seed=0)\n",
    "        model_list.append(model)\n",
    "        coherence_model = CoherenceModel(model=model, texts=text, dictionary=dictionary, coherence='c_v')\n",
    "        coherence_values.append(coherence_model.get_coherence())\n",
    "    # plot results\n",
    "    plt.plot(range(min_topics, max_topics+1), coherence_values)\n",
    "    plt.xlabel(\"Number of Topics\")\n",
    "    plt.ylabel(\"Coherence score\")\n",
    "    plt.legend((\"coherence_values\"), loc='best')\n",
    "    plt.show()"
   ]
  },
  {
   "cell_type": "code",
   "execution_count": 45,
   "id": "ee081439",
   "metadata": {},
   "outputs": [
    {
     "data": {
      "image/png": "[encoded data removed]",
      "text/plain": [
       "<Figure size 1200x800 with 1 Axes>"
      ]
     },
     "metadata": {},
     "output_type": "display_data"
    }
   ],
   "source": [
    "# create tfidf representation\n",
    "corpus_tfidf_fake = tfidf_corpus(doc_term_fake)\n",
    "# coherence scores for fake news data\n",
    "get_coherence_scores(corpus_tfidf_fake, dictionary_fake, fake_news_text, min_topics=2, max_topics=11)"
   ]
  },
  {
   "cell_type": "code",
   "execution_count": 46,
   "id": "95b20418",
   "metadata": {},
   "outputs": [
    {
     "data": {
      "text/plain": [
       "[(0,\n",
       "  '0.218*\"trump\" + 0.135*\"clinton\" + 0.094*\"woman\" + 0.087*\"president\" + 0.086*\"republican\" + 0.085*\"obama\" + 0.084*\"party\" + 0.083*\"school\" + 0.081*\"said\" + 0.079*\"time\"'),\n",
       " (1,\n",
       "  '-0.299*\"boiler\" + -0.253*\"room\" + -0.250*\"acr\" + -0.186*\"jay\" + -0.185*\"animal\" + -0.176*\"episode\" + -0.147*\"analysis\" + -0.122*\"dyer\" + -0.119*\"savant\" + -0.119*\"moralist\"'),\n",
       " (2,\n",
       "  '0.219*\"school\" + -0.195*\"clinton\" + -0.163*\"conference\" + 0.151*\"county\" + 0.137*\"student\" + -0.120*\"press\" + -0.116*\"trump\" + -0.112*\"hillary\" + 0.101*\"love\" + -0.095*\"email\"'),\n",
       " (3,\n",
       "  '-0.375*\"flynn\" + -0.151*\"russian\" + -0.111*\"email\" + -0.109*\"30\" + -0.101*\"department\" + -0.100*\"information\" + -0.100*\"nana\" + -0.099*\"official\" + -0.098*\"mccain\" + 0.096*\"trump\"'),\n",
       " (4,\n",
       "  '-0.235*\"trump\" + -0.223*\"flynn\" + -0.166*\"conference\" + 0.165*\"clinton\" + 0.153*\"dnc\" + 0.151*\"sander\" + 0.127*\"email\" + -0.111*\"press\" + 0.109*\"rich\" + -0.084*\"tax\"')]"
      ]
     },
     "execution_count": 46,
     "metadata": {},
     "output_type": "execute_result"
    }
   ],
   "source": [
    "# model for fake news data\n",
    "lsa_fake = LsiModel(corpus_tfidf_fake, id2word=dictionary_fake, num_topics=5)\n",
    "lsa_fake.print_topics()"
   ]
  },
  {
   "cell_type": "markdown",
   "id": "3f8e6f8a",
   "metadata": {},
   "source": [
    "### Predict fake or factual news"
   ]
  },
  {
   "cell_type": "code",
   "execution_count": 47,
   "id": "10247902",
   "metadata": {},
   "outputs": [
    {
     "data": {
      "text/html": [
       "<div>\n",
       "<style scoped>\n",
       "    .dataframe tbody tr th:only-of-type {\n",
       "        vertical-align: middle;\n",
       "    }\n",
       "\n",
       "    .dataframe tbody tr th {\n",
       "        vertical-align: top;\n",
       "    }\n",
       "\n",
       "    .dataframe thead th {\n",
       "        text-align: right;\n",
       "    }\n",
       "</style>\n",
       "<table border=\"1\" class=\"dataframe\">\n",
       "  <thead>\n",
       "    <tr style=\"text-align: right;\">\n",
       "      <th></th>\n",
       "      <th>title</th>\n",
       "      <th>text</th>\n",
       "      <th>date</th>\n",
       "      <th>fake_or_factual</th>\n",
       "      <th>text_clean</th>\n",
       "      <th>vader_sentiment_score</th>\n",
       "      <th>vader_sentiment_label</th>\n",
       "    </tr>\n",
       "  </thead>\n",
       "  <tbody>\n",
       "    <tr>\n",
       "      <th>0</th>\n",
       "      <td>HOLLYWEIRD LIB SUSAN SARANDON Compares Muslim ...</td>\n",
       "      <td>There are two small problems with your analogy...</td>\n",
       "      <td>Dec 30, 2015</td>\n",
       "      <td>Fake News</td>\n",
       "      <td>[yearold, oscarwinning, actress, described, me...</td>\n",
       "      <td>-0.3660</td>\n",
       "      <td>negative</td>\n",
       "    </tr>\n",
       "    <tr>\n",
       "      <th>1</th>\n",
       "      <td>Elijah Cummings Called Trump Out To His Face ...</td>\n",
       "      <td>Buried in Trump s bonkers interview with New Y...</td>\n",
       "      <td>April 6, 2017</td>\n",
       "      <td>Fake News</td>\n",
       "      <td>[buried, trump, bonkers, interview, new, york,...</td>\n",
       "      <td>-0.8197</td>\n",
       "      <td>negative</td>\n",
       "    </tr>\n",
       "    <tr>\n",
       "      <th>2</th>\n",
       "      <td>Hillary Clinton Says Half Her Cabinet Will Be...</td>\n",
       "      <td>Women make up over 50 percent of this country,...</td>\n",
       "      <td>April 26, 2016</td>\n",
       "      <td>Fake News</td>\n",
       "      <td>[woman, make, 50, percent, country, grossly, u...</td>\n",
       "      <td>0.9779</td>\n",
       "      <td>positive</td>\n",
       "    </tr>\n",
       "    <tr>\n",
       "      <th>3</th>\n",
       "      <td>Russian bombing of U.S.-backed forces being di...</td>\n",
       "      <td>WASHINGTON (Reuters) - U.S. Defense Secretary ...</td>\n",
       "      <td>September 18, 2017</td>\n",
       "      <td>Factual News</td>\n",
       "      <td>[u, defense, secretary, jim, mattis, said, mon...</td>\n",
       "      <td>-0.3400</td>\n",
       "      <td>negative</td>\n",
       "    </tr>\n",
       "    <tr>\n",
       "      <th>4</th>\n",
       "      <td>Britain says window to restore Northern Irelan...</td>\n",
       "      <td>BELFAST (Reuters) - Northern Ireland s politic...</td>\n",
       "      <td>September 4, 2017</td>\n",
       "      <td>Factual News</td>\n",
       "      <td>[northern, ireland, political, party, rapidly,...</td>\n",
       "      <td>0.8590</td>\n",
       "      <td>positive</td>\n",
       "    </tr>\n",
       "  </tbody>\n",
       "</table>\n",
       "</div>"
      ],
      "text/plain": [
       "                                               title  \\\n",
       "0  HOLLYWEIRD LIB SUSAN SARANDON Compares Muslim ...   \n",
       "1   Elijah Cummings Called Trump Out To His Face ...   \n",
       "2   Hillary Clinton Says Half Her Cabinet Will Be...   \n",
       "3  Russian bombing of U.S.-backed forces being di...   \n",
       "4  Britain says window to restore Northern Irelan...   \n",
       "\n",
       "                                                text                 date  \\\n",
       "0  There are two small problems with your analogy...         Dec 30, 2015   \n",
       "1  Buried in Trump s bonkers interview with New Y...        April 6, 2017   \n",
       "2  Women make up over 50 percent of this country,...       April 26, 2016   \n",
       "3  WASHINGTON (Reuters) - U.S. Defense Secretary ...  September 18, 2017    \n",
       "4  BELFAST (Reuters) - Northern Ireland s politic...   September 4, 2017    \n",
       "\n",
       "  fake_or_factual                                         text_clean  \\\n",
       "0       Fake News  [yearold, oscarwinning, actress, described, me...   \n",
       "1       Fake News  [buried, trump, bonkers, interview, new, york,...   \n",
       "2       Fake News  [woman, make, 50, percent, country, grossly, u...   \n",
       "3    Factual News  [u, defense, secretary, jim, mattis, said, mon...   \n",
       "4    Factual News  [northern, ireland, political, party, rapidly,...   \n",
       "\n",
       "   vader_sentiment_score vader_sentiment_label  \n",
       "0                -0.3660              negative  \n",
       "1                -0.8197              negative  \n",
       "2                 0.9779              positive  \n",
       "3                -0.3400              negative  \n",
       "4                 0.8590              positive  "
      ]
     },
     "execution_count": 47,
     "metadata": {},
     "output_type": "execute_result"
    }
   ],
   "source": [
    "data.head()"
   ]
  },
  {
   "cell_type": "code",
   "execution_count": 48,
   "id": "caca3701",
   "metadata": {},
   "outputs": [],
   "source": [
    "X = [','.join(map(str, l)) for l in data['text_clean']]\n",
    "Y = data['fake_or_factual']"
   ]
  },
  {
   "cell_type": "code",
   "execution_count": 49,
   "id": "d9172c6e",
   "metadata": {},
   "outputs": [],
   "source": [
    "# text vectorization - CountVectorizer\n",
    "countvec = CountVectorizer()\n",
    "countvec_fit = countvec.fit_transform(X)\n",
    "bag_of_words = pd.DataFrame(countvec_fit.toarray(), columns = countvec.get_feature_names_out())"
   ]
  },
  {
   "cell_type": "code",
   "execution_count": 50,
   "id": "963ed7d3",
   "metadata": {},
   "outputs": [],
   "source": [
    "# split into train and test data\n",
    "X_train, X_test, y_train, y_test = train_test_split(bag_of_words, Y, test_size=0.3)"
   ]
  },
  {
   "cell_type": "code",
   "execution_count": 51,
   "id": "6ed25737",
   "metadata": {},
   "outputs": [],
   "source": [
    "lr = LogisticRegression(random_state=0).fit(X_train, y_train)"
   ]
  },
  {
   "cell_type": "code",
   "execution_count": 52,
   "id": "ed74dd37",
   "metadata": {},
   "outputs": [
    {
     "data": {
      "text/plain": [
       "0.9166666666666666"
      ]
     },
     "execution_count": 52,
     "metadata": {},
     "output_type": "execute_result"
    }
   ],
   "source": [
    "y_pred_lr = lr.predict(X_test)\n",
    "accuracy_score(y_pred_lr, y_test)"
   ]
  },
  {
   "cell_type": "code",
   "execution_count": 53,
   "id": "db3b4517",
   "metadata": {},
   "outputs": [
    {
     "name": "stdout",
     "output_type": "stream",
     "text": [
      "              precision    recall  f1-score   support\n",
      "\n",
      "Factual News       0.90      0.93      0.92        30\n",
      "   Fake News       0.93      0.90      0.92        30\n",
      "\n",
      "    accuracy                           0.92        60\n",
      "   macro avg       0.92      0.92      0.92        60\n",
      "weighted avg       0.92      0.92      0.92        60\n",
      "\n"
     ]
    }
   ],
   "source": [
    "print(classification_report(y_test, y_pred_lr))"
   ]
  },
  {
   "cell_type": "code",
   "execution_count": 54,
   "id": "098a7d81",
   "metadata": {},
   "outputs": [],
   "source": [
    "svm = SGDClassifier().fit(X_train, y_train)"
   ]
  },
  {
   "cell_type": "code",
   "execution_count": 55,
   "id": "5394d591",
   "metadata": {},
   "outputs": [
    {
     "data": {
      "text/plain": [
       "0.8833333333333333"
      ]
     },
     "execution_count": 55,
     "metadata": {},
     "output_type": "execute_result"
    }
   ],
   "source": [
    "y_pred_svm = svm.predict(X_test)\n",
    "accuracy_score(y_pred_svm, y_test)"
   ]
  },
  {
   "cell_type": "code",
   "execution_count": 56,
   "id": "8698f2a3",
   "metadata": {},
   "outputs": [
    {
     "name": "stdout",
     "output_type": "stream",
     "text": [
      "              precision    recall  f1-score   support\n",
      "\n",
      "Factual News       0.87      0.90      0.89        30\n",
      "   Fake News       0.90      0.87      0.88        30\n",
      "\n",
      "    accuracy                           0.88        60\n",
      "   macro avg       0.88      0.88      0.88        60\n",
      "weighted avg       0.88      0.88      0.88        60\n",
      "\n"
     ]
    }
   ],
   "source": [
    "print(classification_report(y_test, y_pred_svm))"
   ]
  },
  {
   "cell_type": "code",
   "execution_count": null,
   "id": "68e1e0c8",
   "metadata": {},
   "outputs": [],
   "source": []
  }
 ],
 "metadata": {
  "kernelspec": {
   "display_name": "nlp",
   "language": "python",
   "name": "python3"
  },
  "language_info": {
   "codemirror_mode": {
    "name": "ipython",
    "version": 3
   },
   "file_extension": ".py",
   "mimetype": "text/x-python",
   "name": "python",
   "nbconvert_exporter": "python",
   "pygments_lexer": "ipython3",
   "version": "3.12.3"
  }
 },
 "nbformat": 4,
 "nbformat_minor": 5
}
